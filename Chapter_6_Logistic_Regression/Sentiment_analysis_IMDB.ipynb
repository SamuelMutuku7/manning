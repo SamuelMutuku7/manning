{
 "cells": [
  {
   "cell_type": "markdown",
   "metadata": {},
   "source": [
    "# Classifying IMDB movie reviews"
   ]
  },
  {
   "cell_type": "code",
   "execution_count": 1,
   "metadata": {},
   "outputs": [],
   "source": [
    "import turicreate as tc"
   ]
  },
  {
   "cell_type": "code",
   "execution_count": 2,
   "metadata": {},
   "outputs": [
    {
     "data": {
      "text/plain": "Finished parsing file /Users/cpicon/PycharmProjects/manning/Chapter_6_Logistic_Regression/IMDB_Dataset.csv",
      "text/html": "<pre>Finished parsing file /Users/cpicon/PycharmProjects/manning/Chapter_6_Logistic_Regression/IMDB_Dataset.csv</pre>"
     },
     "metadata": {},
     "output_type": "display_data"
    },
    {
     "data": {
      "text/plain": "Parsing completed. Parsed 100 lines in 1.16597 secs.",
      "text/html": "<pre>Parsing completed. Parsed 100 lines in 1.16597 secs.</pre>"
     },
     "metadata": {},
     "output_type": "display_data"
    },
    {
     "name": "stdout",
     "output_type": "stream",
     "text": [
      "------------------------------------------------------\n",
      "Inferred types from first 100 line(s) of file as \n",
      "column_type_hints=[str,str]\n",
      "If parsing fails due to incorrect types, you can correct\n",
      "the inferred type list above and pass it to read_csv in\n",
      "the column_type_hints argument\n",
      "------------------------------------------------------\n"
     ]
    },
    {
     "data": {
      "text/plain": "Read 39624 lines. Lines per second: 36291.5",
      "text/html": "<pre>Read 39624 lines. Lines per second: 36291.5</pre>"
     },
     "metadata": {},
     "output_type": "display_data"
    },
    {
     "data": {
      "text/plain": "Finished parsing file /Users/cpicon/PycharmProjects/manning/Chapter_6_Logistic_Regression/IMDB_Dataset.csv",
      "text/html": "<pre>Finished parsing file /Users/cpicon/PycharmProjects/manning/Chapter_6_Logistic_Regression/IMDB_Dataset.csv</pre>"
     },
     "metadata": {},
     "output_type": "display_data"
    },
    {
     "data": {
      "text/plain": "Parsing completed. Parsed 50000 lines in 1.27224 secs.",
      "text/html": "<pre>Parsing completed. Parsed 50000 lines in 1.27224 secs.</pre>"
     },
     "metadata": {},
     "output_type": "display_data"
    },
    {
     "data": {
      "text/plain": "Columns:\n\treview\tstr\n\tsentiment\tstr\n\nRows: 50000\n\nData:\n+-------------------------------+-----------+\n|             review            | sentiment |\n+-------------------------------+-----------+\n| One of the other reviewers... |  positive |\n| A wonderful little product... |  positive |\n| I thought this was a wonde... |  positive |\n| Basically there's a family... |  negative |\n| Petter Mattei's \"Love in t... |  positive |\n| Probably my all-time favor... |  positive |\n| I sure would like to see a... |  positive |\n| This show was an amazing, ... |  negative |\n| Encouraged by the positive... |  negative |\n| If you like original gut w... |  positive |\n+-------------------------------+-----------+\n[50000 rows x 2 columns]\nNote: Only the head of the SFrame is printed.\nYou can use print_rows(num_rows=m, num_columns=n) to print more rows and columns.",
      "text/html": "<div style=\"max-height:1000px;max-width:1500px;overflow:auto;\"><table frame=\"box\" rules=\"cols\">\n    <tr>\n        <th style=\"padding-left: 1em; padding-right: 1em; text-align: center\">review</th>\n        <th style=\"padding-left: 1em; padding-right: 1em; text-align: center\">sentiment</th>\n    </tr>\n    <tr>\n        <td style=\"padding-left: 1em; padding-right: 1em; text-align: center; vertical-align: top\">One of the other<br>reviewers has mentioned ...</td>\n        <td style=\"padding-left: 1em; padding-right: 1em; text-align: center; vertical-align: top\">positive</td>\n    </tr>\n    <tr>\n        <td style=\"padding-left: 1em; padding-right: 1em; text-align: center; vertical-align: top\">A wonderful little<br>production. &lt;br /&gt;&lt;br ...</td>\n        <td style=\"padding-left: 1em; padding-right: 1em; text-align: center; vertical-align: top\">positive</td>\n    </tr>\n    <tr>\n        <td style=\"padding-left: 1em; padding-right: 1em; text-align: center; vertical-align: top\">I thought this was a<br>wonderful way to spend ...</td>\n        <td style=\"padding-left: 1em; padding-right: 1em; text-align: center; vertical-align: top\">positive</td>\n    </tr>\n    <tr>\n        <td style=\"padding-left: 1em; padding-right: 1em; text-align: center; vertical-align: top\">Basically there&#x27;s a<br>family where a little ...</td>\n        <td style=\"padding-left: 1em; padding-right: 1em; text-align: center; vertical-align: top\">negative</td>\n    </tr>\n    <tr>\n        <td style=\"padding-left: 1em; padding-right: 1em; text-align: center; vertical-align: top\">Petter Mattei&#x27;s &quot;Love in<br>the Time of Money&quot; is a ...</td>\n        <td style=\"padding-left: 1em; padding-right: 1em; text-align: center; vertical-align: top\">positive</td>\n    </tr>\n    <tr>\n        <td style=\"padding-left: 1em; padding-right: 1em; text-align: center; vertical-align: top\">Probably my all-time<br>favorite movie, a story ...</td>\n        <td style=\"padding-left: 1em; padding-right: 1em; text-align: center; vertical-align: top\">positive</td>\n    </tr>\n    <tr>\n        <td style=\"padding-left: 1em; padding-right: 1em; text-align: center; vertical-align: top\">I sure would like to see<br>a resurrection of a up ...</td>\n        <td style=\"padding-left: 1em; padding-right: 1em; text-align: center; vertical-align: top\">positive</td>\n    </tr>\n    <tr>\n        <td style=\"padding-left: 1em; padding-right: 1em; text-align: center; vertical-align: top\">This show was an amazing,<br>fresh &amp; innovative idea ...</td>\n        <td style=\"padding-left: 1em; padding-right: 1em; text-align: center; vertical-align: top\">negative</td>\n    </tr>\n    <tr>\n        <td style=\"padding-left: 1em; padding-right: 1em; text-align: center; vertical-align: top\">Encouraged by the<br>positive comments about ...</td>\n        <td style=\"padding-left: 1em; padding-right: 1em; text-align: center; vertical-align: top\">negative</td>\n    </tr>\n    <tr>\n        <td style=\"padding-left: 1em; padding-right: 1em; text-align: center; vertical-align: top\">If you like original gut<br>wrenching laughter you ...</td>\n        <td style=\"padding-left: 1em; padding-right: 1em; text-align: center; vertical-align: top\">positive</td>\n    </tr>\n</table>\n[50000 rows x 2 columns]<br/>Note: Only the head of the SFrame is printed.<br/>You can use print_rows(num_rows=m, num_columns=n) to print more rows and columns.\n</div>"
     },
     "execution_count": 2,
     "metadata": {},
     "output_type": "execute_result"
    }
   ],
   "source": [
    "movies = tc.SFrame('./IMDB_Dataset.csv')\n",
    "movies"
   ]
  },
  {
   "cell_type": "code",
   "execution_count": 3,
   "metadata": {},
   "outputs": [
    {
     "data": {
      "text/plain": "Columns:\n\treview\tstr\n\tsentiment\tstr\n\twords\tdict\n\nRows: 50000\n\nData:\n+-------------------------------+-----------+-------------------------------+\n|             review            | sentiment |             words             |\n+-------------------------------+-----------+-------------------------------+\n| One of the other reviewers... |  positive | {'if': 1.0, 'viewing': 1.0... |\n| A wonderful little product... |  positive | {'done': 1.0, 'every': 1.0... |\n| I thought this was a wonde... |  positive | {'see': 1.0, 'go': 1.0, 'g... |\n| Basically there's a family... |  negative | {'them': 1.0, 'ignore': 1.... |\n| Petter Mattei's \"Love in t... |  positive | {'work': 1.0, 'his': 1.0, ... |\n| Probably my all-time favor... |  positive | {'for': 1.0, 'dozen': 1.0,... |\n| I sure would like to see a... |  positive | {'do': 1.0, 'lets': 1.0, '... |\n| This show was an amazing, ... |  negative | {'awful': 1.0, 'just': 1.0... |\n| Encouraged by the positive... |  negative | {'effort': 1.0, 'an': 1.0,... |\n| If you like original gut w... |  positive | {'camp': 1.0, 'great': 1.0... |\n+-------------------------------+-----------+-------------------------------+\n[50000 rows x 3 columns]\nNote: Only the head of the SFrame is printed.\nYou can use print_rows(num_rows=m, num_columns=n) to print more rows and columns.",
      "text/html": "<div style=\"max-height:1000px;max-width:1500px;overflow:auto;\"><table frame=\"box\" rules=\"cols\">\n    <tr>\n        <th style=\"padding-left: 1em; padding-right: 1em; text-align: center\">review</th>\n        <th style=\"padding-left: 1em; padding-right: 1em; text-align: center\">sentiment</th>\n        <th style=\"padding-left: 1em; padding-right: 1em; text-align: center\">words</th>\n    </tr>\n    <tr>\n        <td style=\"padding-left: 1em; padding-right: 1em; text-align: center; vertical-align: top\">One of the other<br>reviewers has mentioned ...</td>\n        <td style=\"padding-left: 1em; padding-right: 1em; text-align: center; vertical-align: top\">positive</td>\n        <td style=\"padding-left: 1em; padding-right: 1em; text-align: center; vertical-align: top\">{&#x27;if&#x27;: 1.0, &#x27;viewing&#x27;:<br>1.0, &#x27;comfortable&#x27;: 1.0, ...</td>\n    </tr>\n    <tr>\n        <td style=\"padding-left: 1em; padding-right: 1em; text-align: center; vertical-align: top\">A wonderful little<br>production. &lt;br /&gt;&lt;br ...</td>\n        <td style=\"padding-left: 1em; padding-right: 1em; text-align: center; vertical-align: top\">positive</td>\n        <td style=\"padding-left: 1em; padding-right: 1em; text-align: center; vertical-align: top\">{&#x27;done&#x27;: 1.0, &#x27;every&#x27;:<br>1.0, &#x27;decorating&#x27;: 1.0, ...</td>\n    </tr>\n    <tr>\n        <td style=\"padding-left: 1em; padding-right: 1em; text-align: center; vertical-align: top\">I thought this was a<br>wonderful way to spend ...</td>\n        <td style=\"padding-left: 1em; padding-right: 1em; text-align: center; vertical-align: top\">positive</td>\n        <td style=\"padding-left: 1em; padding-right: 1em; text-align: center; vertical-align: top\">{&#x27;see&#x27;: 1.0, &#x27;go&#x27;: 1.0,<br>&#x27;great&#x27;: 1.0, &#x27;superm ...</td>\n    </tr>\n    <tr>\n        <td style=\"padding-left: 1em; padding-right: 1em; text-align: center; vertical-align: top\">Basically there&#x27;s a<br>family where a little ...</td>\n        <td style=\"padding-left: 1em; padding-right: 1em; text-align: center; vertical-align: top\">negative</td>\n        <td style=\"padding-left: 1em; padding-right: 1em; text-align: center; vertical-align: top\">{&#x27;them&#x27;: 1.0, &#x27;ignore&#x27;:<br>1.0, &#x27;dialogs&#x27;: 1.0, ...</td>\n    </tr>\n    <tr>\n        <td style=\"padding-left: 1em; padding-right: 1em; text-align: center; vertical-align: top\">Petter Mattei&#x27;s &quot;Love in<br>the Time of Money&quot; is a ...</td>\n        <td style=\"padding-left: 1em; padding-right: 1em; text-align: center; vertical-align: top\">positive</td>\n        <td style=\"padding-left: 1em; padding-right: 1em; text-align: center; vertical-align: top\">{&#x27;work&#x27;: 1.0, &#x27;his&#x27;: 1.0,<br>&#x27;for&#x27;: 1.0, &#x27;anxiously&#x27;: ...</td>\n    </tr>\n    <tr>\n        <td style=\"padding-left: 1em; padding-right: 1em; text-align: center; vertical-align: top\">Probably my all-time<br>favorite movie, a story ...</td>\n        <td style=\"padding-left: 1em; padding-right: 1em; text-align: center; vertical-align: top\">positive</td>\n        <td style=\"padding-left: 1em; padding-right: 1em; text-align: center; vertical-align: top\">{&#x27;for&#x27;: 1.0, &#x27;dozen&#x27;:<br>1.0, &#x27;i&#x27;: 1.0, &#x27;if&#x27;:  ...</td>\n    </tr>\n    <tr>\n        <td style=\"padding-left: 1em; padding-right: 1em; text-align: center; vertical-align: top\">I sure would like to see<br>a resurrection of a up ...</td>\n        <td style=\"padding-left: 1em; padding-right: 1em; text-align: center; vertical-align: top\">positive</td>\n        <td style=\"padding-left: 1em; padding-right: 1em; text-align: center; vertical-align: top\">{&#x27;do&#x27;: 1.0, &#x27;lets&#x27;: 1.0,<br>&#x27;go&#x27;: 1.0, &#x27;movies&#x27;:  ...</td>\n    </tr>\n    <tr>\n        <td style=\"padding-left: 1em; padding-right: 1em; text-align: center; vertical-align: top\">This show was an amazing,<br>fresh &amp; innovative idea ...</td>\n        <td style=\"padding-left: 1em; padding-right: 1em; text-align: center; vertical-align: top\">negative</td>\n        <td style=\"padding-left: 1em; padding-right: 1em; text-align: center; vertical-align: top\">{&#x27;awful&#x27;: 1.0, &#x27;just&#x27;:<br>1.0, &#x27;huge&#x27;: 1.0, &#x27;a&#x27;: ...</td>\n    </tr>\n    <tr>\n        <td style=\"padding-left: 1em; padding-right: 1em; text-align: center; vertical-align: top\">Encouraged by the<br>positive comments about ...</td>\n        <td style=\"padding-left: 1em; padding-right: 1em; text-align: center; vertical-align: top\">negative</td>\n        <td style=\"padding-left: 1em; padding-right: 1em; text-align: center; vertical-align: top\">{&#x27;effort&#x27;: 1.0, &#x27;an&#x27;:<br>1.0, &#x27;making&#x27;: 1.0, ...</td>\n    </tr>\n    <tr>\n        <td style=\"padding-left: 1em; padding-right: 1em; text-align: center; vertical-align: top\">If you like original gut<br>wrenching laughter you ...</td>\n        <td style=\"padding-left: 1em; padding-right: 1em; text-align: center; vertical-align: top\">positive</td>\n        <td style=\"padding-left: 1em; padding-right: 1em; text-align: center; vertical-align: top\">{&#x27;camp&#x27;: 1.0, &#x27;great&#x27;:<br>1.0, &#x27;br&#x27;: 2.0, &#x27;mom&#x27;: ...</td>\n    </tr>\n</table>\n[50000 rows x 3 columns]<br/>Note: Only the head of the SFrame is printed.<br/>You can use print_rows(num_rows=m, num_columns=n) to print more rows and columns.\n</div>"
     },
     "execution_count": 3,
     "metadata": {},
     "output_type": "execute_result"
    }
   ],
   "source": [
    "movies['words'] = tc.text_analytics.count_words(movies['review'])\n",
    "movies"
   ]
  },
  {
   "cell_type": "code",
   "execution_count": 4,
   "metadata": {},
   "outputs": [
    {
     "name": "stdout",
     "output_type": "stream",
     "text": [
      "PROGRESS: Creating a validation set from 5 percent of training data. This may take a while.\n",
      "          You can set ``validation_set=None`` to disable validation tracking.\n",
      "\n"
     ]
    },
    {
     "data": {
      "text/plain": "Logistic regression:",
      "text/html": "<pre>Logistic regression:</pre>"
     },
     "metadata": {},
     "output_type": "display_data"
    },
    {
     "data": {
      "text/plain": "--------------------------------------------------------",
      "text/html": "<pre>--------------------------------------------------------</pre>"
     },
     "metadata": {},
     "output_type": "display_data"
    },
    {
     "data": {
      "text/plain": "Number of examples          : 47500",
      "text/html": "<pre>Number of examples          : 47500</pre>"
     },
     "metadata": {},
     "output_type": "display_data"
    },
    {
     "data": {
      "text/plain": "Number of classes           : 2",
      "text/html": "<pre>Number of classes           : 2</pre>"
     },
     "metadata": {},
     "output_type": "display_data"
    },
    {
     "data": {
      "text/plain": "Number of feature columns   : 1",
      "text/html": "<pre>Number of feature columns   : 1</pre>"
     },
     "metadata": {},
     "output_type": "display_data"
    },
    {
     "data": {
      "text/plain": "Number of unpacked features : 101634",
      "text/html": "<pre>Number of unpacked features : 101634</pre>"
     },
     "metadata": {},
     "output_type": "display_data"
    },
    {
     "data": {
      "text/plain": "Number of coefficients      : 101635",
      "text/html": "<pre>Number of coefficients      : 101635</pre>"
     },
     "metadata": {},
     "output_type": "display_data"
    },
    {
     "data": {
      "text/plain": "Starting L-BFGS",
      "text/html": "<pre>Starting L-BFGS</pre>"
     },
     "metadata": {},
     "output_type": "display_data"
    },
    {
     "data": {
      "text/plain": "--------------------------------------------------------",
      "text/html": "<pre>--------------------------------------------------------</pre>"
     },
     "metadata": {},
     "output_type": "display_data"
    },
    {
     "data": {
      "text/plain": "+-----------+----------+-----------+--------------+-------------------+---------------------+",
      "text/html": "<pre>+-----------+----------+-----------+--------------+-------------------+---------------------+</pre>"
     },
     "metadata": {},
     "output_type": "display_data"
    },
    {
     "data": {
      "text/plain": "| Iteration | Passes   | Step size | Elapsed Time | Training Accuracy | Validation Accuracy |",
      "text/html": "<pre>| Iteration | Passes   | Step size | Elapsed Time | Training Accuracy | Validation Accuracy |</pre>"
     },
     "metadata": {},
     "output_type": "display_data"
    },
    {
     "data": {
      "text/plain": "+-----------+----------+-----------+--------------+-------------------+---------------------+",
      "text/html": "<pre>+-----------+----------+-----------+--------------+-------------------+---------------------+</pre>"
     },
     "metadata": {},
     "output_type": "display_data"
    },
    {
     "data": {
      "text/plain": "| 0         | 2        | 1.000000  | 1.510834     | 0.920000          | 0.866000            |",
      "text/html": "<pre>| 0         | 2        | 1.000000  | 1.510834     | 0.920000          | 0.866000            |</pre>"
     },
     "metadata": {},
     "output_type": "display_data"
    },
    {
     "data": {
      "text/plain": "| 1         | 4        | 1.000000  | 2.117731     | 0.967726          | 0.881600            |",
      "text/html": "<pre>| 1         | 4        | 1.000000  | 2.117731     | 0.967726          | 0.881600            |</pre>"
     },
     "metadata": {},
     "output_type": "display_data"
    },
    {
     "data": {
      "text/plain": "| 2         | 5        | 1.000000  | 2.482037     | 0.971263          | 0.885600            |",
      "text/html": "<pre>| 2         | 5        | 1.000000  | 2.482037     | 0.971263          | 0.885600            |</pre>"
     },
     "metadata": {},
     "output_type": "display_data"
    },
    {
     "data": {
      "text/plain": "| 3         | 7        | 0.759677  | 3.082668     | 0.982021          | 0.892400            |",
      "text/html": "<pre>| 3         | 7        | 0.759677  | 3.082668     | 0.982021          | 0.892400            |</pre>"
     },
     "metadata": {},
     "output_type": "display_data"
    },
    {
     "data": {
      "text/plain": "| 4         | 9        | 0.759677  | 3.719480     | 0.987221          | 0.895200            |",
      "text/html": "<pre>| 4         | 9        | 0.759677  | 3.719480     | 0.987221          | 0.895200            |</pre>"
     },
     "metadata": {},
     "output_type": "display_data"
    },
    {
     "data": {
      "text/plain": "| 9         | 14       | 1.000000  | 5.667365     | 0.999474          | 0.866800            |",
      "text/html": "<pre>| 9         | 14       | 1.000000  | 5.667365     | 0.999474          | 0.866800            |</pre>"
     },
     "metadata": {},
     "output_type": "display_data"
    },
    {
     "data": {
      "text/plain": "+-----------+----------+-----------+--------------+-------------------+---------------------+",
      "text/html": "<pre>+-----------+----------+-----------+--------------+-------------------+---------------------+</pre>"
     },
     "metadata": {},
     "output_type": "display_data"
    }
   ],
   "source": [
    "model = tc.logistic_classifier.create(movies, features=['words'], target='sentiment')"
   ]
  },
  {
   "cell_type": "code",
   "execution_count": 5,
   "metadata": {},
   "outputs": [
    {
     "data": {
      "text/plain": "Class                          : LogisticClassifier\n\nSchema\n------\nNumber of coefficients         : 101635\nNumber of examples             : 47500\nNumber of classes              : 2\nNumber of feature columns      : 1\nNumber of unpacked features    : 101634\n\nHyperparameters\n---------------\nL1 penalty                     : 0.0\nL2 penalty                     : 0.01\n\nTraining Summary\n----------------\nSolver                         : lbfgs\nSolver iterations              : 10\nSolver status                  : Completed (Iteration limit reached).\nTraining time (sec)            : 3.1829\n\nSettings\n--------\nLog-likelihood                 : 368.982\n\nHighest Positive Coefficients\n-----------------------------\nwords[vez]                     : 45.7518\nwords[solamente]               : 45.7518\nwords[caressed]                : 34.2446\nwords[clintonesque]            : 34.2446\nwords[basso]                   : 23.3522\n\nLowest Negative Coefficients\n----------------------------\nwords[sierre]                  : -17.4357\nwords[toyshop]                 : -16.8354\nwords[newlwed]                 : -16.6918\nwords[lodz]                    : -16.2527\nwords[hemmed]                  : -16.0125"
     },
     "execution_count": 5,
     "metadata": {},
     "output_type": "execute_result"
    }
   ],
   "source": [
    "model"
   ]
  },
  {
   "cell_type": "code",
   "execution_count": 6,
   "metadata": {},
   "outputs": [
    {
     "data": {
      "text/plain": "Columns:\n\tname\tstr\n\tindex\tstr\n\tclass\tstr\n\tvalue\tfloat\n\tstderr\tfloat\n\nRows: 101635\n\nData:\n+-------------+-------------+----------+-----------------------+--------+\n|     name    |    index    |  class   |         value         | stderr |\n+-------------+-------------+----------+-----------------------+--------+\n| (intercept) |     None    | positive |  0.07316826013227824  |  None  |\n|    words    |      if     | positive | -0.017921123103008536 |  None  |\n|    words    |   viewing   | positive |  0.14127896720666328  |  None  |\n|    words    | comfortable | positive |   0.4035875630034372  |  None  |\n|    words    |    become   | positive |  0.10882114635402623  |  None  |\n|    words    |     may     | positive |  0.20411806736654084  |  None  |\n|    words    |    skills   | positive |  -0.45485498016480924 |  None  |\n|    words    |     lack    | positive |  -0.5618227750383498  |  None  |\n|    words    |    their    | positive |  0.010979465563803475 |  None  |\n|    words    |    class    | positive | -0.013777009814493155 |  None  |\n+-------------+-------------+----------+-----------------------+--------+\n[101635 rows x 5 columns]\nNote: Only the head of the SFrame is printed.\nYou can use print_rows(num_rows=m, num_columns=n) to print more rows and columns.",
      "text/html": "<div style=\"max-height:1000px;max-width:1500px;overflow:auto;\"><table frame=\"box\" rules=\"cols\">\n    <tr>\n        <th style=\"padding-left: 1em; padding-right: 1em; text-align: center\">name</th>\n        <th style=\"padding-left: 1em; padding-right: 1em; text-align: center\">index</th>\n        <th style=\"padding-left: 1em; padding-right: 1em; text-align: center\">class</th>\n        <th style=\"padding-left: 1em; padding-right: 1em; text-align: center\">value</th>\n        <th style=\"padding-left: 1em; padding-right: 1em; text-align: center\">stderr</th>\n    </tr>\n    <tr>\n        <td style=\"padding-left: 1em; padding-right: 1em; text-align: center; vertical-align: top\">(intercept)</td>\n        <td style=\"padding-left: 1em; padding-right: 1em; text-align: center; vertical-align: top\">None</td>\n        <td style=\"padding-left: 1em; padding-right: 1em; text-align: center; vertical-align: top\">positive</td>\n        <td style=\"padding-left: 1em; padding-right: 1em; text-align: center; vertical-align: top\">0.07316826013227824</td>\n        <td style=\"padding-left: 1em; padding-right: 1em; text-align: center; vertical-align: top\">None</td>\n    </tr>\n    <tr>\n        <td style=\"padding-left: 1em; padding-right: 1em; text-align: center; vertical-align: top\">words</td>\n        <td style=\"padding-left: 1em; padding-right: 1em; text-align: center; vertical-align: top\">if</td>\n        <td style=\"padding-left: 1em; padding-right: 1em; text-align: center; vertical-align: top\">positive</td>\n        <td style=\"padding-left: 1em; padding-right: 1em; text-align: center; vertical-align: top\">-0.017921123103008536</td>\n        <td style=\"padding-left: 1em; padding-right: 1em; text-align: center; vertical-align: top\">None</td>\n    </tr>\n    <tr>\n        <td style=\"padding-left: 1em; padding-right: 1em; text-align: center; vertical-align: top\">words</td>\n        <td style=\"padding-left: 1em; padding-right: 1em; text-align: center; vertical-align: top\">viewing</td>\n        <td style=\"padding-left: 1em; padding-right: 1em; text-align: center; vertical-align: top\">positive</td>\n        <td style=\"padding-left: 1em; padding-right: 1em; text-align: center; vertical-align: top\">0.14127896720666328</td>\n        <td style=\"padding-left: 1em; padding-right: 1em; text-align: center; vertical-align: top\">None</td>\n    </tr>\n    <tr>\n        <td style=\"padding-left: 1em; padding-right: 1em; text-align: center; vertical-align: top\">words</td>\n        <td style=\"padding-left: 1em; padding-right: 1em; text-align: center; vertical-align: top\">comfortable</td>\n        <td style=\"padding-left: 1em; padding-right: 1em; text-align: center; vertical-align: top\">positive</td>\n        <td style=\"padding-left: 1em; padding-right: 1em; text-align: center; vertical-align: top\">0.4035875630034372</td>\n        <td style=\"padding-left: 1em; padding-right: 1em; text-align: center; vertical-align: top\">None</td>\n    </tr>\n    <tr>\n        <td style=\"padding-left: 1em; padding-right: 1em; text-align: center; vertical-align: top\">words</td>\n        <td style=\"padding-left: 1em; padding-right: 1em; text-align: center; vertical-align: top\">become</td>\n        <td style=\"padding-left: 1em; padding-right: 1em; text-align: center; vertical-align: top\">positive</td>\n        <td style=\"padding-left: 1em; padding-right: 1em; text-align: center; vertical-align: top\">0.10882114635402623</td>\n        <td style=\"padding-left: 1em; padding-right: 1em; text-align: center; vertical-align: top\">None</td>\n    </tr>\n    <tr>\n        <td style=\"padding-left: 1em; padding-right: 1em; text-align: center; vertical-align: top\">words</td>\n        <td style=\"padding-left: 1em; padding-right: 1em; text-align: center; vertical-align: top\">may</td>\n        <td style=\"padding-left: 1em; padding-right: 1em; text-align: center; vertical-align: top\">positive</td>\n        <td style=\"padding-left: 1em; padding-right: 1em; text-align: center; vertical-align: top\">0.20411806736654084</td>\n        <td style=\"padding-left: 1em; padding-right: 1em; text-align: center; vertical-align: top\">None</td>\n    </tr>\n    <tr>\n        <td style=\"padding-left: 1em; padding-right: 1em; text-align: center; vertical-align: top\">words</td>\n        <td style=\"padding-left: 1em; padding-right: 1em; text-align: center; vertical-align: top\">skills</td>\n        <td style=\"padding-left: 1em; padding-right: 1em; text-align: center; vertical-align: top\">positive</td>\n        <td style=\"padding-left: 1em; padding-right: 1em; text-align: center; vertical-align: top\">-0.45485498016480924</td>\n        <td style=\"padding-left: 1em; padding-right: 1em; text-align: center; vertical-align: top\">None</td>\n    </tr>\n    <tr>\n        <td style=\"padding-left: 1em; padding-right: 1em; text-align: center; vertical-align: top\">words</td>\n        <td style=\"padding-left: 1em; padding-right: 1em; text-align: center; vertical-align: top\">lack</td>\n        <td style=\"padding-left: 1em; padding-right: 1em; text-align: center; vertical-align: top\">positive</td>\n        <td style=\"padding-left: 1em; padding-right: 1em; text-align: center; vertical-align: top\">-0.5618227750383498</td>\n        <td style=\"padding-left: 1em; padding-right: 1em; text-align: center; vertical-align: top\">None</td>\n    </tr>\n    <tr>\n        <td style=\"padding-left: 1em; padding-right: 1em; text-align: center; vertical-align: top\">words</td>\n        <td style=\"padding-left: 1em; padding-right: 1em; text-align: center; vertical-align: top\">their</td>\n        <td style=\"padding-left: 1em; padding-right: 1em; text-align: center; vertical-align: top\">positive</td>\n        <td style=\"padding-left: 1em; padding-right: 1em; text-align: center; vertical-align: top\">0.010979465563803475</td>\n        <td style=\"padding-left: 1em; padding-right: 1em; text-align: center; vertical-align: top\">None</td>\n    </tr>\n    <tr>\n        <td style=\"padding-left: 1em; padding-right: 1em; text-align: center; vertical-align: top\">words</td>\n        <td style=\"padding-left: 1em; padding-right: 1em; text-align: center; vertical-align: top\">class</td>\n        <td style=\"padding-left: 1em; padding-right: 1em; text-align: center; vertical-align: top\">positive</td>\n        <td style=\"padding-left: 1em; padding-right: 1em; text-align: center; vertical-align: top\">-0.013777009814493155</td>\n        <td style=\"padding-left: 1em; padding-right: 1em; text-align: center; vertical-align: top\">None</td>\n    </tr>\n</table>\n[101635 rows x 5 columns]<br/>Note: Only the head of the SFrame is printed.<br/>You can use print_rows(num_rows=m, num_columns=n) to print more rows and columns.\n</div>"
     },
     "execution_count": 6,
     "metadata": {},
     "output_type": "execute_result"
    }
   ],
   "source": [
    "weights = model.coefficients\n",
    "weights"
   ]
  },
  {
   "cell_type": "code",
   "execution_count": 7,
   "metadata": {},
   "outputs": [
    {
     "data": {
      "text/plain": "Columns:\n\tname\tstr\n\tindex\tstr\n\tclass\tstr\n\tvalue\tfloat\n\tstderr\tfloat\n\nRows: 101635\n\nData:\n+-------+---------------+----------+---------------------+--------+\n|  name |     index     |  class   |        value        | stderr |\n+-------+---------------+----------+---------------------+--------+\n| words |     sierre    | positive | -17.435723685819916 |  None  |\n| words |    toyshop    | positive | -16.835352197451574 |  None  |\n| words |    newlwed    | positive | -16.691792047666006 |  None  |\n| words |      lodz     | positive | -16.252745286489354 |  None  |\n| words |     hemmed    | positive |  -16.01247401980197 |  None  |\n| words |      bsed     | positive | -15.771467236510887 |  None  |\n| words | untraditional | positive | -15.395868263825852 |  None  |\n| words |    graziano   | positive | -15.274823899634375 |  None  |\n| words |   carribean   | positive | -15.053090429354258 |  None  |\n| words |      exp      | positive | -14.870215013934326 |  None  |\n+-------+---------------+----------+---------------------+--------+\n[101635 rows x 5 columns]\nNote: Only the head of the SFrame is printed.\nYou can use print_rows(num_rows=m, num_columns=n) to print more rows and columns.",
      "text/html": "<div style=\"max-height:1000px;max-width:1500px;overflow:auto;\"><table frame=\"box\" rules=\"cols\">\n    <tr>\n        <th style=\"padding-left: 1em; padding-right: 1em; text-align: center\">name</th>\n        <th style=\"padding-left: 1em; padding-right: 1em; text-align: center\">index</th>\n        <th style=\"padding-left: 1em; padding-right: 1em; text-align: center\">class</th>\n        <th style=\"padding-left: 1em; padding-right: 1em; text-align: center\">value</th>\n        <th style=\"padding-left: 1em; padding-right: 1em; text-align: center\">stderr</th>\n    </tr>\n    <tr>\n        <td style=\"padding-left: 1em; padding-right: 1em; text-align: center; vertical-align: top\">words</td>\n        <td style=\"padding-left: 1em; padding-right: 1em; text-align: center; vertical-align: top\">sierre</td>\n        <td style=\"padding-left: 1em; padding-right: 1em; text-align: center; vertical-align: top\">positive</td>\n        <td style=\"padding-left: 1em; padding-right: 1em; text-align: center; vertical-align: top\">-17.435723685819916</td>\n        <td style=\"padding-left: 1em; padding-right: 1em; text-align: center; vertical-align: top\">None</td>\n    </tr>\n    <tr>\n        <td style=\"padding-left: 1em; padding-right: 1em; text-align: center; vertical-align: top\">words</td>\n        <td style=\"padding-left: 1em; padding-right: 1em; text-align: center; vertical-align: top\">toyshop</td>\n        <td style=\"padding-left: 1em; padding-right: 1em; text-align: center; vertical-align: top\">positive</td>\n        <td style=\"padding-left: 1em; padding-right: 1em; text-align: center; vertical-align: top\">-16.835352197451574</td>\n        <td style=\"padding-left: 1em; padding-right: 1em; text-align: center; vertical-align: top\">None</td>\n    </tr>\n    <tr>\n        <td style=\"padding-left: 1em; padding-right: 1em; text-align: center; vertical-align: top\">words</td>\n        <td style=\"padding-left: 1em; padding-right: 1em; text-align: center; vertical-align: top\">newlwed</td>\n        <td style=\"padding-left: 1em; padding-right: 1em; text-align: center; vertical-align: top\">positive</td>\n        <td style=\"padding-left: 1em; padding-right: 1em; text-align: center; vertical-align: top\">-16.691792047666006</td>\n        <td style=\"padding-left: 1em; padding-right: 1em; text-align: center; vertical-align: top\">None</td>\n    </tr>\n    <tr>\n        <td style=\"padding-left: 1em; padding-right: 1em; text-align: center; vertical-align: top\">words</td>\n        <td style=\"padding-left: 1em; padding-right: 1em; text-align: center; vertical-align: top\">lodz</td>\n        <td style=\"padding-left: 1em; padding-right: 1em; text-align: center; vertical-align: top\">positive</td>\n        <td style=\"padding-left: 1em; padding-right: 1em; text-align: center; vertical-align: top\">-16.252745286489354</td>\n        <td style=\"padding-left: 1em; padding-right: 1em; text-align: center; vertical-align: top\">None</td>\n    </tr>\n    <tr>\n        <td style=\"padding-left: 1em; padding-right: 1em; text-align: center; vertical-align: top\">words</td>\n        <td style=\"padding-left: 1em; padding-right: 1em; text-align: center; vertical-align: top\">hemmed</td>\n        <td style=\"padding-left: 1em; padding-right: 1em; text-align: center; vertical-align: top\">positive</td>\n        <td style=\"padding-left: 1em; padding-right: 1em; text-align: center; vertical-align: top\">-16.01247401980197</td>\n        <td style=\"padding-left: 1em; padding-right: 1em; text-align: center; vertical-align: top\">None</td>\n    </tr>\n    <tr>\n        <td style=\"padding-left: 1em; padding-right: 1em; text-align: center; vertical-align: top\">words</td>\n        <td style=\"padding-left: 1em; padding-right: 1em; text-align: center; vertical-align: top\">bsed</td>\n        <td style=\"padding-left: 1em; padding-right: 1em; text-align: center; vertical-align: top\">positive</td>\n        <td style=\"padding-left: 1em; padding-right: 1em; text-align: center; vertical-align: top\">-15.771467236510887</td>\n        <td style=\"padding-left: 1em; padding-right: 1em; text-align: center; vertical-align: top\">None</td>\n    </tr>\n    <tr>\n        <td style=\"padding-left: 1em; padding-right: 1em; text-align: center; vertical-align: top\">words</td>\n        <td style=\"padding-left: 1em; padding-right: 1em; text-align: center; vertical-align: top\">untraditional</td>\n        <td style=\"padding-left: 1em; padding-right: 1em; text-align: center; vertical-align: top\">positive</td>\n        <td style=\"padding-left: 1em; padding-right: 1em; text-align: center; vertical-align: top\">-15.395868263825852</td>\n        <td style=\"padding-left: 1em; padding-right: 1em; text-align: center; vertical-align: top\">None</td>\n    </tr>\n    <tr>\n        <td style=\"padding-left: 1em; padding-right: 1em; text-align: center; vertical-align: top\">words</td>\n        <td style=\"padding-left: 1em; padding-right: 1em; text-align: center; vertical-align: top\">graziano</td>\n        <td style=\"padding-left: 1em; padding-right: 1em; text-align: center; vertical-align: top\">positive</td>\n        <td style=\"padding-left: 1em; padding-right: 1em; text-align: center; vertical-align: top\">-15.274823899634375</td>\n        <td style=\"padding-left: 1em; padding-right: 1em; text-align: center; vertical-align: top\">None</td>\n    </tr>\n    <tr>\n        <td style=\"padding-left: 1em; padding-right: 1em; text-align: center; vertical-align: top\">words</td>\n        <td style=\"padding-left: 1em; padding-right: 1em; text-align: center; vertical-align: top\">carribean</td>\n        <td style=\"padding-left: 1em; padding-right: 1em; text-align: center; vertical-align: top\">positive</td>\n        <td style=\"padding-left: 1em; padding-right: 1em; text-align: center; vertical-align: top\">-15.053090429354258</td>\n        <td style=\"padding-left: 1em; padding-right: 1em; text-align: center; vertical-align: top\">None</td>\n    </tr>\n    <tr>\n        <td style=\"padding-left: 1em; padding-right: 1em; text-align: center; vertical-align: top\">words</td>\n        <td style=\"padding-left: 1em; padding-right: 1em; text-align: center; vertical-align: top\">exp</td>\n        <td style=\"padding-left: 1em; padding-right: 1em; text-align: center; vertical-align: top\">positive</td>\n        <td style=\"padding-left: 1em; padding-right: 1em; text-align: center; vertical-align: top\">-14.870215013934326</td>\n        <td style=\"padding-left: 1em; padding-right: 1em; text-align: center; vertical-align: top\">None</td>\n    </tr>\n</table>\n[101635 rows x 5 columns]<br/>Note: Only the head of the SFrame is printed.<br/>You can use print_rows(num_rows=m, num_columns=n) to print more rows and columns.\n</div>"
     },
     "execution_count": 7,
     "metadata": {},
     "output_type": "execute_result"
    }
   ],
   "source": [
    "weights.sort('value')"
   ]
  },
  {
   "cell_type": "code",
   "execution_count": 8,
   "metadata": {},
   "outputs": [
    {
     "data": {
      "text/plain": "Columns:\n\tname\tstr\n\tindex\tstr\n\tclass\tstr\n\tvalue\tfloat\n\tstderr\tfloat\n\nRows: 101635\n\nData:\n+-------+---------------+----------+--------------------+--------+\n|  name |     index     |  class   |       value        | stderr |\n+-------+---------------+----------+--------------------+--------+\n| words |      vez      | positive | 45.751760726080406 |  None  |\n| words |   solamente   | positive | 45.751760726080406 |  None  |\n| words |  clintonesque | positive | 34.244554903781506 |  None  |\n| words |    caressed   | positive | 34.244554903781506 |  None  |\n| words |     basso     | positive | 23.352188958042884 |  None  |\n| words |     lakers    | positive | 22.507773000929426 |  None  |\n| words | midichlorians | positive | 21.714881485343458 |  None  |\n| words |   nighteyes   | positive | 20.872201784543037 |  None  |\n| words |     whirry    | positive | 20.872201784543037 |  None  |\n| words |      8bit     | positive | 19.864027339658954 |  None  |\n+-------+---------------+----------+--------------------+--------+\n[101635 rows x 5 columns]\nNote: Only the head of the SFrame is printed.\nYou can use print_rows(num_rows=m, num_columns=n) to print more rows and columns.",
      "text/html": "<div style=\"max-height:1000px;max-width:1500px;overflow:auto;\"><table frame=\"box\" rules=\"cols\">\n    <tr>\n        <th style=\"padding-left: 1em; padding-right: 1em; text-align: center\">name</th>\n        <th style=\"padding-left: 1em; padding-right: 1em; text-align: center\">index</th>\n        <th style=\"padding-left: 1em; padding-right: 1em; text-align: center\">class</th>\n        <th style=\"padding-left: 1em; padding-right: 1em; text-align: center\">value</th>\n        <th style=\"padding-left: 1em; padding-right: 1em; text-align: center\">stderr</th>\n    </tr>\n    <tr>\n        <td style=\"padding-left: 1em; padding-right: 1em; text-align: center; vertical-align: top\">words</td>\n        <td style=\"padding-left: 1em; padding-right: 1em; text-align: center; vertical-align: top\">vez</td>\n        <td style=\"padding-left: 1em; padding-right: 1em; text-align: center; vertical-align: top\">positive</td>\n        <td style=\"padding-left: 1em; padding-right: 1em; text-align: center; vertical-align: top\">45.751760726080406</td>\n        <td style=\"padding-left: 1em; padding-right: 1em; text-align: center; vertical-align: top\">None</td>\n    </tr>\n    <tr>\n        <td style=\"padding-left: 1em; padding-right: 1em; text-align: center; vertical-align: top\">words</td>\n        <td style=\"padding-left: 1em; padding-right: 1em; text-align: center; vertical-align: top\">solamente</td>\n        <td style=\"padding-left: 1em; padding-right: 1em; text-align: center; vertical-align: top\">positive</td>\n        <td style=\"padding-left: 1em; padding-right: 1em; text-align: center; vertical-align: top\">45.751760726080406</td>\n        <td style=\"padding-left: 1em; padding-right: 1em; text-align: center; vertical-align: top\">None</td>\n    </tr>\n    <tr>\n        <td style=\"padding-left: 1em; padding-right: 1em; text-align: center; vertical-align: top\">words</td>\n        <td style=\"padding-left: 1em; padding-right: 1em; text-align: center; vertical-align: top\">clintonesque</td>\n        <td style=\"padding-left: 1em; padding-right: 1em; text-align: center; vertical-align: top\">positive</td>\n        <td style=\"padding-left: 1em; padding-right: 1em; text-align: center; vertical-align: top\">34.244554903781506</td>\n        <td style=\"padding-left: 1em; padding-right: 1em; text-align: center; vertical-align: top\">None</td>\n    </tr>\n    <tr>\n        <td style=\"padding-left: 1em; padding-right: 1em; text-align: center; vertical-align: top\">words</td>\n        <td style=\"padding-left: 1em; padding-right: 1em; text-align: center; vertical-align: top\">caressed</td>\n        <td style=\"padding-left: 1em; padding-right: 1em; text-align: center; vertical-align: top\">positive</td>\n        <td style=\"padding-left: 1em; padding-right: 1em; text-align: center; vertical-align: top\">34.244554903781506</td>\n        <td style=\"padding-left: 1em; padding-right: 1em; text-align: center; vertical-align: top\">None</td>\n    </tr>\n    <tr>\n        <td style=\"padding-left: 1em; padding-right: 1em; text-align: center; vertical-align: top\">words</td>\n        <td style=\"padding-left: 1em; padding-right: 1em; text-align: center; vertical-align: top\">basso</td>\n        <td style=\"padding-left: 1em; padding-right: 1em; text-align: center; vertical-align: top\">positive</td>\n        <td style=\"padding-left: 1em; padding-right: 1em; text-align: center; vertical-align: top\">23.352188958042884</td>\n        <td style=\"padding-left: 1em; padding-right: 1em; text-align: center; vertical-align: top\">None</td>\n    </tr>\n    <tr>\n        <td style=\"padding-left: 1em; padding-right: 1em; text-align: center; vertical-align: top\">words</td>\n        <td style=\"padding-left: 1em; padding-right: 1em; text-align: center; vertical-align: top\">lakers</td>\n        <td style=\"padding-left: 1em; padding-right: 1em; text-align: center; vertical-align: top\">positive</td>\n        <td style=\"padding-left: 1em; padding-right: 1em; text-align: center; vertical-align: top\">22.507773000929426</td>\n        <td style=\"padding-left: 1em; padding-right: 1em; text-align: center; vertical-align: top\">None</td>\n    </tr>\n    <tr>\n        <td style=\"padding-left: 1em; padding-right: 1em; text-align: center; vertical-align: top\">words</td>\n        <td style=\"padding-left: 1em; padding-right: 1em; text-align: center; vertical-align: top\">midichlorians</td>\n        <td style=\"padding-left: 1em; padding-right: 1em; text-align: center; vertical-align: top\">positive</td>\n        <td style=\"padding-left: 1em; padding-right: 1em; text-align: center; vertical-align: top\">21.714881485343458</td>\n        <td style=\"padding-left: 1em; padding-right: 1em; text-align: center; vertical-align: top\">None</td>\n    </tr>\n    <tr>\n        <td style=\"padding-left: 1em; padding-right: 1em; text-align: center; vertical-align: top\">words</td>\n        <td style=\"padding-left: 1em; padding-right: 1em; text-align: center; vertical-align: top\">nighteyes</td>\n        <td style=\"padding-left: 1em; padding-right: 1em; text-align: center; vertical-align: top\">positive</td>\n        <td style=\"padding-left: 1em; padding-right: 1em; text-align: center; vertical-align: top\">20.872201784543037</td>\n        <td style=\"padding-left: 1em; padding-right: 1em; text-align: center; vertical-align: top\">None</td>\n    </tr>\n    <tr>\n        <td style=\"padding-left: 1em; padding-right: 1em; text-align: center; vertical-align: top\">words</td>\n        <td style=\"padding-left: 1em; padding-right: 1em; text-align: center; vertical-align: top\">whirry</td>\n        <td style=\"padding-left: 1em; padding-right: 1em; text-align: center; vertical-align: top\">positive</td>\n        <td style=\"padding-left: 1em; padding-right: 1em; text-align: center; vertical-align: top\">20.872201784543037</td>\n        <td style=\"padding-left: 1em; padding-right: 1em; text-align: center; vertical-align: top\">None</td>\n    </tr>\n    <tr>\n        <td style=\"padding-left: 1em; padding-right: 1em; text-align: center; vertical-align: top\">words</td>\n        <td style=\"padding-left: 1em; padding-right: 1em; text-align: center; vertical-align: top\">8bit</td>\n        <td style=\"padding-left: 1em; padding-right: 1em; text-align: center; vertical-align: top\">positive</td>\n        <td style=\"padding-left: 1em; padding-right: 1em; text-align: center; vertical-align: top\">19.864027339658954</td>\n        <td style=\"padding-left: 1em; padding-right: 1em; text-align: center; vertical-align: top\">None</td>\n    </tr>\n</table>\n[101635 rows x 5 columns]<br/>Note: Only the head of the SFrame is printed.<br/>You can use print_rows(num_rows=m, num_columns=n) to print more rows and columns.\n</div>"
     },
     "execution_count": 8,
     "metadata": {},
     "output_type": "execute_result"
    }
   ],
   "source": [
    "weights.sort('value', ascending=False)"
   ]
  },
  {
   "cell_type": "code",
   "execution_count": 9,
   "metadata": {},
   "outputs": [
    {
     "data": {
      "text/plain": "Columns:\n\tname\tstr\n\tindex\tstr\n\tclass\tstr\n\tvalue\tfloat\n\tstderr\tfloat\n\nRows: Unknown\n\nData:\n+-------+-----------+----------+--------------------+--------+\n|  name |   index   |  class   |       value        | stderr |\n+-------+-----------+----------+--------------------+--------+\n| words | wonderful | positive | 1.1091460782990283 |  None  |\n+-------+-----------+----------+--------------------+--------+\n[? rows x 5 columns]\nNote: Only the head of the SFrame is printed. This SFrame is lazily evaluated.\nYou can use sf.materialize() to force materialization.",
      "text/html": "<div style=\"max-height:1000px;max-width:1500px;overflow:auto;\"><table frame=\"box\" rules=\"cols\">\n    <tr>\n        <th style=\"padding-left: 1em; padding-right: 1em; text-align: center\">name</th>\n        <th style=\"padding-left: 1em; padding-right: 1em; text-align: center\">index</th>\n        <th style=\"padding-left: 1em; padding-right: 1em; text-align: center\">class</th>\n        <th style=\"padding-left: 1em; padding-right: 1em; text-align: center\">value</th>\n        <th style=\"padding-left: 1em; padding-right: 1em; text-align: center\">stderr</th>\n    </tr>\n    <tr>\n        <td style=\"padding-left: 1em; padding-right: 1em; text-align: center; vertical-align: top\">words</td>\n        <td style=\"padding-left: 1em; padding-right: 1em; text-align: center; vertical-align: top\">wonderful</td>\n        <td style=\"padding-left: 1em; padding-right: 1em; text-align: center; vertical-align: top\">positive</td>\n        <td style=\"padding-left: 1em; padding-right: 1em; text-align: center; vertical-align: top\">1.1091460782990283</td>\n        <td style=\"padding-left: 1em; padding-right: 1em; text-align: center; vertical-align: top\">None</td>\n    </tr>\n</table>\n[? rows x 5 columns]<br/>Note: Only the head of the SFrame is printed. This SFrame is lazily evaluated.<br/>You can use sf.materialize() to force materialization.\n</div>"
     },
     "execution_count": 9,
     "metadata": {},
     "output_type": "execute_result"
    }
   ],
   "source": [
    "weights[weights['index']=='wonderful']"
   ]
  },
  {
   "cell_type": "code",
   "execution_count": 10,
   "metadata": {},
   "outputs": [
    {
     "data": {
      "text/plain": "Columns:\n\tname\tstr\n\tindex\tstr\n\tclass\tstr\n\tvalue\tfloat\n\tstderr\tfloat\n\nRows: Unknown\n\nData:\n+-------+----------+----------+---------------------+--------+\n|  name |  index   |  class   |        value        | stderr |\n+-------+----------+----------+---------------------+--------+\n| words | horrible | positive | -1.0457099390516815 |  None  |\n+-------+----------+----------+---------------------+--------+\n[? rows x 5 columns]\nNote: Only the head of the SFrame is printed. This SFrame is lazily evaluated.\nYou can use sf.materialize() to force materialization.",
      "text/html": "<div style=\"max-height:1000px;max-width:1500px;overflow:auto;\"><table frame=\"box\" rules=\"cols\">\n    <tr>\n        <th style=\"padding-left: 1em; padding-right: 1em; text-align: center\">name</th>\n        <th style=\"padding-left: 1em; padding-right: 1em; text-align: center\">index</th>\n        <th style=\"padding-left: 1em; padding-right: 1em; text-align: center\">class</th>\n        <th style=\"padding-left: 1em; padding-right: 1em; text-align: center\">value</th>\n        <th style=\"padding-left: 1em; padding-right: 1em; text-align: center\">stderr</th>\n    </tr>\n    <tr>\n        <td style=\"padding-left: 1em; padding-right: 1em; text-align: center; vertical-align: top\">words</td>\n        <td style=\"padding-left: 1em; padding-right: 1em; text-align: center; vertical-align: top\">horrible</td>\n        <td style=\"padding-left: 1em; padding-right: 1em; text-align: center; vertical-align: top\">positive</td>\n        <td style=\"padding-left: 1em; padding-right: 1em; text-align: center; vertical-align: top\">-1.0457099390516815</td>\n        <td style=\"padding-left: 1em; padding-right: 1em; text-align: center; vertical-align: top\">None</td>\n    </tr>\n</table>\n[? rows x 5 columns]<br/>Note: Only the head of the SFrame is printed. This SFrame is lazily evaluated.<br/>You can use sf.materialize() to force materialization.\n</div>"
     },
     "execution_count": 10,
     "metadata": {},
     "output_type": "execute_result"
    }
   ],
   "source": [
    "weights[weights['index']=='horrible']"
   ]
  },
  {
   "cell_type": "code",
   "execution_count": 11,
   "metadata": {},
   "outputs": [
    {
     "data": {
      "text/plain": "Columns:\n\tname\tstr\n\tindex\tstr\n\tclass\tstr\n\tvalue\tfloat\n\tstderr\tfloat\n\nRows: Unknown\n\nData:\n+-------+-------+----------+-----------------------+--------+\n|  name | index |  class   |         value         | stderr |\n+-------+-------+----------+-----------------------+--------+\n| words |  the  | positive | 0.0004391814441305884 |  None  |\n+-------+-------+----------+-----------------------+--------+\n[? rows x 5 columns]\nNote: Only the head of the SFrame is printed. This SFrame is lazily evaluated.\nYou can use sf.materialize() to force materialization.",
      "text/html": "<div style=\"max-height:1000px;max-width:1500px;overflow:auto;\"><table frame=\"box\" rules=\"cols\">\n    <tr>\n        <th style=\"padding-left: 1em; padding-right: 1em; text-align: center\">name</th>\n        <th style=\"padding-left: 1em; padding-right: 1em; text-align: center\">index</th>\n        <th style=\"padding-left: 1em; padding-right: 1em; text-align: center\">class</th>\n        <th style=\"padding-left: 1em; padding-right: 1em; text-align: center\">value</th>\n        <th style=\"padding-left: 1em; padding-right: 1em; text-align: center\">stderr</th>\n    </tr>\n    <tr>\n        <td style=\"padding-left: 1em; padding-right: 1em; text-align: center; vertical-align: top\">words</td>\n        <td style=\"padding-left: 1em; padding-right: 1em; text-align: center; vertical-align: top\">the</td>\n        <td style=\"padding-left: 1em; padding-right: 1em; text-align: center; vertical-align: top\">positive</td>\n        <td style=\"padding-left: 1em; padding-right: 1em; text-align: center; vertical-align: top\">0.0004391814441305884</td>\n        <td style=\"padding-left: 1em; padding-right: 1em; text-align: center; vertical-align: top\">None</td>\n    </tr>\n</table>\n[? rows x 5 columns]<br/>Note: Only the head of the SFrame is printed. This SFrame is lazily evaluated.<br/>You can use sf.materialize() to force materialization.\n</div>"
     },
     "execution_count": 11,
     "metadata": {},
     "output_type": "execute_result"
    }
   ],
   "source": [
    "weights[weights['index']=='the']"
   ]
  },
  {
   "cell_type": "code",
   "execution_count": 11,
   "metadata": {},
   "outputs": [],
   "source": []
  },
  {
   "cell_type": "code",
   "execution_count": 12,
   "metadata": {},
   "outputs": [],
   "source": [
    "movies['predictions'] = model.predict(movies, output_type='probability')"
   ]
  },
  {
   "cell_type": "code",
   "execution_count": 13,
   "metadata": {},
   "outputs": [
    {
     "data": {
      "text/plain": "{'review': 'Film historians have said much about ancient epics that have been the interest of many directors from the beginning of cinema. The pioneers of such epics, particularly biblical ones, were D.W Griffith with his \"mother of all epics\" INTOLERANCE (1916), and Cecil B DeMille with his flair for magnificent spectacles, costumes and lavish scenes. Who can forget his TEN COMMANDMENTS (1923, 1956) or THE SIGN OF THE CROSS (1932)? Nevertheless, here comes another epic, made in the 1950s, directed by Michael Curtiz, and based on the novel by Mika Waltari, \"The Egyptian.\" Michael Curtiz, already famous for his great classic CASABLANCA (1941) wonderfully manages to adjust his film to the audiences of that time, to entail the most important ideas and facts from the thick novel, and to recreate the lifestyle of the Egyptians who lived in one of the most amazing periods, in the reign of Akhnaton.<br /><br />The first and most important fact for me in this movie is the psychological development of the main character that Edmund Purdom plays. Sinuhe, having been brought up in a simple family by his step parents, becomes a physician. All his life, he never stops asking a question \"why?\" and searching for the answer. Alluring love that he finds in a courtesan Nefer (Bella Darvi) leads him to financial and spiritual disaster. He has to repair the mistakes by hard work in the House of Death and starting to build up his reputation from nothing. First, he thinks that the only cure is revenge. However, in the long run, he realizes that \"eye for eye\" is no solution. Finally, what stands before him in very strange circumstances is the temptation to be a pharaoh. Nevertheless, there is one moment he finds the answer for his questions that touched him throughout his life... The story of the main character, though based on the book, is so interesting psychologically that every open minded person should consider this aspect in the film. The main character\\'s psychological struggle is intensified by the times he lived in, the times when, probably for the first time to that extend, the power of sword clashed with the power of thought.<br /><br />Curtiz\\'s movie also retains one rule that all films of his era kept to: great cast and lavish sets. There are mostly British actors and actresses who give very nice performances. How is it possible not to mention the mainstay of ancient epic, Victor Mature. This time, he is not Demetrius, Hannibal or Samson but Horemheb - a fighter, a lover, at last a pharaoh. Jean Simmons appears in a very delicate role of Merit, a woman who loved Sinuhe all her life but it was too late when he realized that. Peter Ustinov, probably most famous for his gorgeous performance as Nero in QUO VADIS? three years earlier, does a great job as Kaptah, Sinuhe\\'s friend. The royalty of the film is also played by two great cast, Gene Tierney and Michael Wilding. Tierney is excellent as cold, desirous of power Baketamon, the sister of pharaoh. Wilding gives a marvelous performance as \"insane\" Akhnaton. When I was in Louvre in Paris and saw Akhnaton\\'s original face carved in stone, he looked very much the same as the actor in the film. Bella Darvi, an actress born in Poland, is quite memorable as a wicked courtesan Nefer. And there is one more actress who appears only in one scene but whom it is hard to forget, Judith Evelyn as Taia, pharaoh\\'s mother. This voice, these eyes!<br /><br />The sets are magnificent. The director recreated the most probable image of the outdoor temple of Aaton, the god that the Egyptians worshiped to in the reign of Amenhotep IV. I also loved the scene of pharaoh\\'s first entrance. What a glorious picture that forever lasts in one\\'s memory!!! However, there is also one aspect that I would like to draw the attention of all people interested to see the film. The Egyptian is similar to other epics in many respects, but it also stands out as a unique film. There are very few films which make such a wonderful use of different curiosities as for ancient times. There is a mention of iron used first by the Hetites. It\\'s also the only film about ancient Egypt which talks openly of Egyptians\\' magnificent curing abilities. It memorably shows the contrasts of lifestyles, particularly the moment of a slave\\'s death for whom no one cares followed by the announcement and consequently the widespread mourning after the death of pharaoh. Finally, \"The Egyptian\" shows one historical fact: there were other nations except for Jews (before Christ) where the spirit of God shone in some human hearts. Yet, the only difference was that it did not survive that long as at Jews\\' because it did not have a strong fundament. The scene of Akhnaton\\'s death supplies you with so many biblical and Christian values that you may think you watch a religious movie.<br /><br />All things considered, I highly recommend Michael Curtiz\\' film. It is a great production at multiple levels: an entertainment for epic fans, an admiration of marvelous performances for cinema fans, a soul feast for spiritual people. Finally, it is a beautiful story of extraordinary things which happened thirteen centuries before the birth of Jesus Christ.',\n 'sentiment': 'positive',\n 'words': {'jesus': 1.0,\n  'centuries': 1.0,\n  'beautiful': 1.0,\n  'feast': 1.0,\n  'soul': 1.0,\n  'admiration': 1.0,\n  'fans': 2.0,\n  'levels': 1.0,\n  'he': 10.0,\n  'becomes': 1.0,\n  'sign': 1.0,\n  'highly': 1.0,\n  'realizes': 1.0,\n  'considered': 1.0,\n  'extraordinary': 1.0,\n  'things': 2.0,\n  'strong': 1.0,\n  'because': 1.0,\n  'happened': 1.0,\n  'difference': 1.0,\n  'wilding': 2.0,\n  'spirit': 1.0,\n  'question': 1.0,\n  'jews': 2.0,\n  'except': 1.0,\n  'nations': 1.0,\n  'followed': 1.0,\n  'cares': 1.0,\n  'shows': 2.0,\n  'memorably': 1.0,\n  'abilities': 1.0,\n  'judith': 1.0,\n  'curiosities': 1.0,\n  'some': 1.0,\n  'wonderful': 1.0,\n  'make': 1.0,\n  'few': 1.0,\n  'respects': 1.0,\n  'interested': 1.0,\n  'people': 2.0,\n  'draw': 1.0,\n  'like': 1.0,\n  'watch': 1.0,\n  'other': 2.0,\n  'would': 1.0,\n  'birth': 1.0,\n  'talks': 1.0,\n  'memory': 1.0,\n  'or': 2.0,\n  'entrance': 1.0,\n  'worshiped': 1.0,\n  'god': 2.0,\n  'mature': 1.0,\n  'temple': 1.0,\n  'recreated': 1.0,\n  'director': 1.0,\n  'eyes': 1.0,\n  'taia': 1.0,\n  'evelyn': 1.0,\n  'whom': 2.0,\n  'thirteen': 1.0,\n  'lover': 1.0,\n  'more': 1.0,\n  'actress': 2.0,\n  'same': 1.0,\n  'cecil': 1.0,\n  'looked': 1.0,\n  'finds': 2.0,\n  'recommend': 1.0,\n  'may': 1.0,\n  'egypt': 1.0,\n  'carved': 1.0,\n  'saw': 1.0,\n  'louvre': 1.0,\n  'earlier': 1.0,\n  'i': 4.0,\n  'insane': 1.0,\n  'stops': 1.0,\n  'shone': 1.0,\n  'comes': 1.0,\n  'wonderfully': 1.0,\n  'memorable': 1.0,\n  'marvelous': 2.0,\n  'sister': 1.0,\n  'out': 1.0,\n  'mourning': 1.0,\n  'these': 1.0,\n  'attention': 1.0,\n  'baketamon': 1.0,\n  'plays': 1.0,\n  'lifestyles': 1.0,\n  'actor': 1.0,\n  'desirous': 1.0,\n  'interesting': 1.0,\n  'cold': 1.0,\n  'tierney': 2.0,\n  'supplies': 1.0,\n  'two': 1.0,\n  'royalty': 1.0,\n  'revenge': 1.0,\n  'human': 1.0,\n  'forget': 2.0,\n  'how': 1.0,\n  'friend': 1.0,\n  'eye': 2.0,\n  'scene': 3.0,\n  'kaptah': 1.0,\n  'costumes': 1.0,\n  'build': 1.0,\n  'used': 1.0,\n  'power': 3.0,\n  'unique': 1.0,\n  'job': 1.0,\n  'three': 1.0,\n  'vadis': 1.0,\n  'b': 1.0,\n  'quo': 1.0,\n  'nero': 1.0,\n  'stands': 2.0,\n  'as': 10.0,\n  'performance': 2.0,\n  'based': 2.0,\n  'were': 2.0,\n  'values': 1.0,\n  'announcement': 1.0,\n  'glorious': 1.0,\n  'ustinov': 1.0,\n  'moment': 2.0,\n  'peter': 1.0,\n  'actors': 1.0,\n  'br': 8.0,\n  'late': 1.0,\n  'biblical': 2.0,\n  'too': 1.0,\n  'was': 3.0,\n  'lasts': 1.0,\n  'her': 1.0,\n  'questions': 1.0,\n  'loved': 2.0,\n  'gives': 1.0,\n  'woman': 1.0,\n  'excellent': 1.0,\n  'delicate': 1.0,\n  'ideas': 1.0,\n  'simmons': 1.0,\n  'jean': 1.0,\n  'slave': 1.0,\n  'last': 1.0,\n  'at': 3.0,\n  '1956': 1.0,\n  'why': 1.0,\n  'think': 1.0,\n  'but': 4.0,\n  'demetrius': 1.0,\n  'such': 2.0,\n  'years': 1.0,\n  'an': 3.0,\n  'him': 3.0,\n  'victor': 1.0,\n  'image': 1.0,\n  'poland': 1.0,\n  'mainstay': 1.0,\n  'mention': 2.0,\n  'wicked': 1.0,\n  'it': 10.0,\n  'ten': 1.0,\n  'nice': 1.0,\n  'give': 1.0,\n  'british': 1.0,\n  'from': 3.0,\n  'role': 1.0,\n  'mostly': 1.0,\n  'are': 3.0,\n  'sets': 2.0,\n  'contrasts': 1.0,\n  'horemheb': 1.0,\n  'cast': 2.0,\n  'fundament': 1.0,\n  'kept': 1.0,\n  'possible': 1.0,\n  'era': 1.0,\n  'films': 2.0,\n  'rule': 1.0,\n  'probable': 1.0,\n  'thought': 1.0,\n  'stone': 1.0,\n  'actresses': 1.0,\n  'clashed': 1.0,\n  'religious': 1.0,\n  'probably': 2.0,\n  'times': 3.0,\n  'and': 16.0,\n  'see': 1.0,\n  'struggle': 1.0,\n  'facts': 1.0,\n  'christian': 1.0,\n  's': 10.0,\n  'consider': 1.0,\n  'directed': 1.0,\n  'person': 1.0,\n  'multiple': 1.0,\n  'open': 1.0,\n  'extend': 1.0,\n  'psychologically': 1.0,\n  'hard': 2.0,\n  'voice': 1.0,\n  'played': 1.0,\n  'intolerance': 1.0,\n  'recreate': 1.0,\n  'story': 2.0,\n  'strange': 1.0,\n  'reputation': 1.0,\n  'throughout': 1.0,\n  'with': 4.0,\n  'hannibal': 1.0,\n  'every': 1.0,\n  'circumstances': 1.0,\n  'before': 3.0,\n  '1932': 1.0,\n  'so': 2.0,\n  'cure': 1.0,\n  'finally': 3.0,\n  'solution': 1.0,\n  'directors': 1.0,\n  'where': 1.0,\n  'run': 1.0,\n  'yet': 1.0,\n  'pharaoh': 6.0,\n  'family': 1.0,\n  'long': 2.0,\n  'intensified': 1.0,\n  'only': 4.0,\n  'book': 1.0,\n  'for': 14.0,\n  'work': 1.0,\n  'courtesan': 2.0,\n  'disaster': 1.0,\n  'realized': 1.0,\n  'searching': 1.0,\n  'up': 2.0,\n  'his': 12.0,\n  'financial': 1.0,\n  'bella': 2.0,\n  'w': 1.0,\n  'thinks': 1.0,\n  'very': 5.0,\n  'nothing': 1.0,\n  'all': 6.0,\n  'nefer': 2.0,\n  'alluring': 1.0,\n  'is': 19.0,\n  'famous': 2.0,\n  'christ': 2.0,\n  'not': 4.0,\n  'touched': 1.0,\n  'historical': 1.0,\n  '1916': 1.0,\n  'answer': 2.0,\n  'when': 3.0,\n  'never': 1.0,\n  'you': 3.0,\n  'parents': 1.0,\n  'egyptian': 3.0,\n  'minded': 1.0,\n  'hetites': 1.0,\n  'face': 1.0,\n  'of': 36.0,\n  'be': 1.0,\n  'lifestyle': 1.0,\n  'a': 23.0,\n  'quite': 1.0,\n  'amazing': 1.0,\n  'about': 2.0,\n  'life': 3.0,\n  'appears': 2.0,\n  'beginning': 1.0,\n  'though': 1.0,\n  'brought': 1.0,\n  'magnificent': 3.0,\n  'darvi': 2.0,\n  'mistakes': 1.0,\n  'sinuhe': 3.0,\n  'consequently': 1.0,\n  'most': 5.0,\n  'curing': 1.0,\n  'has': 1.0,\n  'purdom': 1.0,\n  'edmund': 1.0,\n  'akhnaton': 4.0,\n  'character': 3.0,\n  'having': 1.0,\n  'commandments': 1.0,\n  'main': 3.0,\n  'leads': 1.0,\n  'born': 1.0,\n  'development': 1.0,\n  'made': 1.0,\n  'mika': 1.0,\n  'psychological': 2.0,\n  'fact': 2.0,\n  'after': 1.0,\n  'been': 2.0,\n  'survive': 1.0,\n  'periods': 1.0,\n  'outdoor': 1.0,\n  'starting': 1.0,\n  'curtiz': 4.0,\n  'thick': 1.0,\n  'd': 1.0,\n  'no': 2.0,\n  'important': 2.0,\n  'movie': 3.0,\n  'many': 3.0,\n  'adjust': 1.0,\n  'great': 5.0,\n  'much': 2.0,\n  'novel': 2.0,\n  'however': 2.0,\n  'lavish': 2.0,\n  'on': 2.0,\n  'entail': 1.0,\n  'does': 1.0,\n  'step': 1.0,\n  'audiences': 1.0,\n  'fighter': 1.0,\n  'by': 8.0,\n  'physician': 1.0,\n  'historians': 1.0,\n  'similar': 1.0,\n  '1950s': 1.0,\n  'cross': 1.0,\n  'production': 1.0,\n  'hearts': 1.0,\n  'original': 1.0,\n  'casablanca': 1.0,\n  'interest': 1.0,\n  'iron': 1.0,\n  'first': 5.0,\n  'in': 23.0,\n  'here': 1.0,\n  'paris': 1.0,\n  'nevertheless': 2.0,\n  'temptation': 1.0,\n  'did': 2.0,\n  'can': 1.0,\n  'aaton': 1.0,\n  'classic': 1.0,\n  'death': 4.0,\n  'repair': 1.0,\n  'there': 7.0,\n  'widespread': 1.0,\n  'retains': 1.0,\n  'ancient': 4.0,\n  'sword': 1.0,\n  'samson': 1.0,\n  'egyptians': 3.0,\n  'epic': 3.0,\n  'this': 4.0,\n  'particularly': 2.0,\n  'different': 1.0,\n  '1923': 1.0,\n  'entertainment': 1.0,\n  'michael': 4.0,\n  'one': 9.0,\n  'amenhotep': 1.0,\n  'merit': 1.0,\n  'spectacles': 1.0,\n  'me': 1.0,\n  'who': 5.0,\n  'iv': 1.0,\n  'demille': 1.0,\n  'waltari': 1.0,\n  'asking': 1.0,\n  'should': 1.0,\n  'said': 1.0,\n  'forever': 1.0,\n  'house': 1.0,\n  'love': 1.0,\n  'aspect': 2.0,\n  'epics': 4.0,\n  'manages': 1.0,\n  'griffith': 1.0,\n  'time': 3.0,\n  'the': 65.0,\n  'ones': 1.0,\n  'lived': 2.0,\n  'gene': 1.0,\n  'gorgeous': 1.0,\n  'mother': 2.0,\n  'simple': 1.0,\n  'already': 1.0,\n  'cinema': 2.0,\n  'use': 1.0,\n  'what': 2.0,\n  'another': 1.0,\n  'scenes': 1.0,\n  'that': 17.0,\n  'openly': 1.0,\n  'spiritual': 2.0,\n  'film': 9.0,\n  'performances': 2.0,\n  'flair': 1.0,\n  'picture': 1.0,\n  '1941': 1.0,\n  'also': 6.0,\n  'which': 3.0,\n  'have': 3.0,\n  'pioneers': 1.0,\n  'reign': 2.0,\n  'to': 16.0},\n 'predictions': 1.0}"
     },
     "execution_count": 13,
     "metadata": {},
     "output_type": "execute_result"
    }
   ],
   "source": [
    "movies.sort('predictions', ascending=False)[0]"
   ]
  },
  {
   "cell_type": "code",
   "execution_count": 14,
   "metadata": {},
   "outputs": [
    {
     "data": {
      "text/plain": "{'review': \"Even duller, if possible, than the original (I hope I may say that under the IMDb guidelines). THE FRENCH CONNECTION at least tried to absorb European influences, to complicate the conventional view of the American police detective, even if the attempt was foundered by Friedkin's ambivalence, Americaness and general indirection. The (relative) arthouse boom of the 1960s (especially with the nouvelle vague) allowed for a huge influence of European cinema in Hollywood. This lent a new vigour and complexity to a weary medium, and, in the best of them (eg BONNIE AND CLYDE, early Scorcese), a new subversion of received practice. The original CONNECTION was part of this movement, with its difficultly distanced style, and anti-detective figure. TWO is old Hollywood's right-wing reassertion of American values.<br /><br />This is figured in the film's very tiresome America vs France dialectic. For instance, TWO is shot like a 70s French policier. It was the French, of course, who insisted on the greatness of American movies when they were ignored at home, and this, in a sense, is a reclamation, a warning against Gallic presumption. This can be seen in the pattern of the two movies. CONNECTION has French gangsters invading New York, with the French style smothering the American thriller - this leads to the dissolution of the detective figure, and irresolution of plot - the baddie got away. <br /><br />TWO has the American returning to France, with American thriller values imposed on the native genre - the power of the detective is reasserted and conventional resolution is achieved. This is further dramatised in Doyle's relationship with French inspector Barthelmy, whose dominant influence he must shake off before he can control the plot.<br /><br />TWO seems to follow the original by undermining its detective hero. From the start, Doyle's importance is diminished at every turn. Despite the ending of CONNECTION, he is considered a hero. But he is an American in a foreign land, and his inability to control language or customs means he cannot dominate the plot. He even misreads the signs of the police force, mistaking an informer for a criminal, and getting him killed. <br /><br />A detective's power comes from his power as subject to see and interpret, but Doyle spends much of the movie being watched, controlled, an object, a body (literally in the scenes after he is dumped by Charnier) to be viewed and interpreted. In CONNECTION, he instigated the action, chasing the criminals, forcing the plot; here he is passive, tied to a bed, locked in a cell, an addict, a dependent.<br /><br />This loss of phallic power is predictably symbolised in the loss of his gun, and the film follows a depressingly familiar Oedipal trajectory. In the heroin sequences, he is comforted by an old lady who says he looks like her son. His drugged state is like a return to the womb, robbed of adult pressures. Her taking his watch reinforces the timelessness of this state, doubly significant for a man whose career depends on timetables and precision.<br /><br />Oedipus was the first detective, and to avoid his fate, Doyle must reject this false mother who is dissolving his unified identity, and kill the father (Charnier) so that he can take his accepted masculine role in society. Psychoanalytic theory was popular among academics in the 70s(ironically instigated by a Frenchman, Jacques Lacan), but it's rare to see a film so literally full of it. <br /><br />If all of these facts tended towards the minimising of Doyle, then the film's style doesn't. Friedkin distanced us from his hero by refusing empathy or character motivation, focusing on the mechanics of plot. Here, Doyle is a very conventional Hollywood hero. Instead of being lost in murky long shot, he is made knowable and understandable to the viewer with the traditional devices - point-of-view shots, close ups, connecting shots etc.<br /><br />TWO is all about the fall and rise of Popeye Doyle. Plot in this case is subservient to the acting, which is the usual Hackman showiness. The cold turkey scenes, therefore, despite their tediousness, are not disturbing. We are allowed to share rather than coldly observe; this a far less discomforting experience. The scenes are also shot through with a lachrymose manly sentimentality that is very American. <br /><br />So while CONNECTION tried to imitate the complex thrillers of Jean Pierre Melville, TWO does the complete opposite. Melville's LE SAMOURAI featured a gangster who started the film whole, powerful, outside language, and charted his eventual disintegration. TWO starts with a disintegrated character, achieved partly through inability with language, whose dominance begins when he steps outside language - the concluding action sequences are largely wordless. <br /><br />In the film, the locale and language are important as they fixed and undermined the detective, but as he regains his power (figured in the return of his gun, and the cathartic burning of the primal site of vulnerability, the tower block where Charnier held him), the Marseilles setting becomes more irrelevant, and the mythic stand-off, which could take place anywhere, takes over. Compare the endings of the two films: one admits ambiguity and despair, the other absolute certainty.<br /><br />\",\n 'sentiment': 'negative',\n 'words': {'other': 1.0,\n  'films': 1.0,\n  'compare': 1.0,\n  'over': 1.0,\n  'certainty': 1.0,\n  'takes': 1.0,\n  'place': 1.0,\n  'irrelevant': 1.0,\n  'more': 1.0,\n  'marseilles': 1.0,\n  'held': 1.0,\n  'block': 1.0,\n  'vulnerability': 1.0,\n  'primal': 1.0,\n  'weary': 1.0,\n  'locale': 1.0,\n  'stand': 1.0,\n  'largely': 1.0,\n  'inspector': 1.0,\n  'steps': 1.0,\n  'control': 2.0,\n  'partly': 1.0,\n  'americaness': 1.0,\n  'disintegrated': 1.0,\n  'reclamation': 1.0,\n  'started': 1.0,\n  'eventual': 1.0,\n  'charted': 1.0,\n  'whole': 1.0,\n  'familiar': 1.0,\n  'gangster': 1.0,\n  'robbed': 1.0,\n  'are': 5.0,\n  'samourai': 1.0,\n  'le': 1.0,\n  'melville': 2.0,\n  'has': 2.0,\n  'pierre': 1.0,\n  'jean': 1.0,\n  'complex': 1.0,\n  'sentimentality': 1.0,\n  'manly': 1.0,\n  'wordless': 1.0,\n  'imitate': 1.0,\n  'discomforting': 1.0,\n  'less': 1.0,\n  'observe': 1.0,\n  'share': 1.0,\n  'dumped': 1.0,\n  'disintegration': 1.0,\n  'does': 1.0,\n  'hero': 4.0,\n  'disturbing': 1.0,\n  'which': 2.0,\n  'concluding': 1.0,\n  'cold': 1.0,\n  'acting': 1.0,\n  'rise': 1.0,\n  'fall': 1.0,\n  'interpret': 1.0,\n  'about': 1.0,\n  'etc': 1.0,\n  'i': 2.0,\n  'empathy': 1.0,\n  'close': 1.0,\n  'traditional': 1.0,\n  'motivation': 1.0,\n  'burning': 1.0,\n  't': 1.0,\n  'tended': 1.0,\n  'undermined': 1.0,\n  'sense': 1.0,\n  'subject': 1.0,\n  'these': 1.0,\n  'his': 12.0,\n  'devices': 1.0,\n  'full': 1.0,\n  'rare': 1.0,\n  'lacan': 1.0,\n  'reassertion': 1.0,\n  'jacques': 1.0,\n  'theory': 1.0,\n  'drugged': 1.0,\n  'psychoanalytic': 1.0,\n  'taking': 1.0,\n  'society': 1.0,\n  'popeye': 1.0,\n  'oedipal': 1.0,\n  'starts': 1.0,\n  'regains': 1.0,\n  'masculine': 1.0,\n  'accepted': 1.0,\n  'interpreted': 1.0,\n  'not': 1.0,\n  'take': 2.0,\n  'so': 3.0,\n  'father': 1.0,\n  'police': 2.0,\n  'kill': 1.0,\n  'minimising': 1.0,\n  'identity': 1.0,\n  'unified': 1.0,\n  'opposite': 1.0,\n  'dissolving': 1.0,\n  'mother': 1.0,\n  'false': 1.0,\n  'academics': 1.0,\n  'reject': 1.0,\n  'part': 1.0,\n  'fate': 1.0,\n  'avoid': 1.0,\n  'first': 1.0,\n  'precision': 1.0,\n  'off': 2.0,\n  'timetables': 1.0,\n  'complete': 1.0,\n  'career': 1.0,\n  'body': 1.0,\n  'significant': 1.0,\n  'long': 1.0,\n  'popular': 1.0,\n  'doubly': 1.0,\n  'timelessness': 1.0,\n  'admits': 1.0,\n  'watch': 1.0,\n  'pressures': 1.0,\n  'pattern': 1.0,\n  'shake': 1.0,\n  'therefore': 1.0,\n  'adult': 1.0,\n  'womb': 1.0,\n  'vague': 1.0,\n  'return': 2.0,\n  'like': 3.0,\n  'outside': 2.0,\n  'leads': 1.0,\n  'son': 1.0,\n  'her': 2.0,\n  'focusing': 1.0,\n  'one': 1.0,\n  'looks': 1.0,\n  'experience': 1.0,\n  'says': 1.0,\n  'heroin': 1.0,\n  'trajectory': 1.0,\n  'case': 1.0,\n  'movement': 1.0,\n  'style': 3.0,\n  'depressingly': 1.0,\n  'gun': 2.0,\n  'allowed': 2.0,\n  'symbolised': 1.0,\n  'lady': 1.0,\n  'predictably': 1.0,\n  'american': 8.0,\n  'shot': 3.0,\n  'loss': 2.0,\n  'criminal': 1.0,\n  'dependent': 1.0,\n  'further': 1.0,\n  'fixed': 1.0,\n  'connecting': 1.0,\n  'locked': 1.0,\n  'frenchman': 1.0,\n  'ambiguity': 1.0,\n  'tied': 1.0,\n  'hope': 1.0,\n  'here': 2.0,\n  'forcing': 1.0,\n  'phallic': 1.0,\n  'connection': 6.0,\n  'vigour': 1.0,\n  'hackman': 1.0,\n  'lachrymose': 1.0,\n  'criminals': 1.0,\n  'instigated': 2.0,\n  'charnier': 3.0,\n  'after': 1.0,\n  'object': 1.0,\n  'controlled': 1.0,\n  'scenes': 3.0,\n  '70s': 2.0,\n  'watched': 1.0,\n  'us': 1.0,\n  'from': 3.0,\n  'role': 1.0,\n  'despite': 2.0,\n  'being': 2.0,\n  'doesn': 1.0,\n  'movie': 1.0,\n  'character': 2.0,\n  'dominance': 1.0,\n  'they': 2.0,\n  'chasing': 1.0,\n  'force': 1.0,\n  'much': 1.0,\n  'could': 1.0,\n  'murky': 1.0,\n  'and': 24.0,\n  'see': 2.0,\n  'killed': 1.0,\n  'influence': 2.0,\n  'customs': 1.0,\n  'reasserted': 1.0,\n  'coldly': 1.0,\n  'or': 2.0,\n  'as': 3.0,\n  'them': 1.0,\n  'language': 5.0,\n  'tediousness': 1.0,\n  'inability': 2.0,\n  'with': 9.0,\n  'foreign': 1.0,\n  'values': 2.0,\n  'were': 1.0,\n  'dominate': 1.0,\n  'viewed': 1.0,\n  'barthelmy': 1.0,\n  'gangsters': 1.0,\n  'land': 1.0,\n  'diminished': 1.0,\n  'cathartic': 1.0,\n  'state': 2.0,\n  'understandable': 1.0,\n  'every': 1.0,\n  'their': 1.0,\n  'cannot': 1.0,\n  'depends': 1.0,\n  'undermining': 1.0,\n  'we': 1.0,\n  'begins': 1.0,\n  'smothering': 1.0,\n  'but': 4.0,\n  'scorcese': 1.0,\n  'achieved': 2.0,\n  'view': 2.0,\n  'showiness': 1.0,\n  'seems': 1.0,\n  'follows': 1.0,\n  'before': 1.0,\n  'sequences': 2.0,\n  'among': 1.0,\n  'when': 2.0,\n  'becomes': 1.0,\n  'he': 15.0,\n  'is': 22.0,\n  'whose': 3.0,\n  'powerful': 1.0,\n  'relationship': 1.0,\n  'doyle': 7.0,\n  'made': 1.0,\n  'cell': 1.0,\n  'imposed': 1.0,\n  'mechanics': 1.0,\n  'old': 2.0,\n  'returning': 1.0,\n  'got': 1.0,\n  'dissolution': 1.0,\n  'ending': 1.0,\n  'by': 6.0,\n  'thriller': 2.0,\n  'away': 1.0,\n  'considered': 1.0,\n  'the': 71.0,\n  'ironically': 1.0,\n  'bed': 1.0,\n  'plot': 6.0,\n  'despair': 1.0,\n  'shots': 2.0,\n  'tower': 1.0,\n  'clyde': 1.0,\n  'turn': 1.0,\n  'br': 22.0,\n  'instead': 1.0,\n  'can': 3.0,\n  'ups': 1.0,\n  'resolution': 1.0,\n  'where': 1.0,\n  'presumption': 1.0,\n  'mythic': 1.0,\n  'rather': 1.0,\n  'gallic': 1.0,\n  'against': 1.0,\n  'him': 2.0,\n  'site': 1.0,\n  'turkey': 1.0,\n  'baddie': 1.0,\n  'ignored': 1.0,\n  'france': 2.0,\n  'viewer': 1.0,\n  'genre': 1.0,\n  'greatness': 1.0,\n  'importance': 1.0,\n  'on': 4.0,\n  'endings': 1.0,\n  'who': 4.0,\n  'absolute': 1.0,\n  'nouvelle': 1.0,\n  'original': 3.0,\n  'especially': 1.0,\n  'received': 1.0,\n  'york': 1.0,\n  'that': 3.0,\n  'course': 1.0,\n  'indirection': 1.0,\n  'it': 3.0,\n  'insisted': 1.0,\n  'policier': 1.0,\n  'influences': 1.0,\n  'comes': 1.0,\n  'follow': 1.0,\n  'instance': 1.0,\n  'man': 1.0,\n  'means': 1.0,\n  'figured': 2.0,\n  'important': 1.0,\n  'mistaking': 1.0,\n  'attempt': 1.0,\n  'tiresome': 1.0,\n  'literally': 2.0,\n  'medium': 1.0,\n  'seen': 1.0,\n  'very': 3.0,\n  'lost': 1.0,\n  'movies': 2.0,\n  'then': 1.0,\n  'while': 1.0,\n  'figure': 2.0,\n  'dramatised': 1.0,\n  'this': 12.0,\n  'usual': 1.0,\n  'its': 2.0,\n  'wing': 1.0,\n  'may': 1.0,\n  'dominant': 1.0,\n  'anti': 1.0,\n  'be': 2.0,\n  'of': 32.0,\n  'start': 1.0,\n  'through': 2.0,\n  'arthouse': 1.0,\n  'early': 1.0,\n  'far': 1.0,\n  'passive': 1.0,\n  'bonnie': 1.0,\n  'featured': 1.0,\n  'vs': 1.0,\n  'getting': 1.0,\n  'spends': 1.0,\n  'eg': 1.0,\n  'power': 5.0,\n  'tried': 2.0,\n  'complexity': 1.0,\n  'film': 6.0,\n  'new': 3.0,\n  'distanced': 2.0,\n  'lent': 1.0,\n  'cinema': 1.0,\n  'an': 5.0,\n  'conventional': 3.0,\n  'huge': 1.0,\n  'reinforces': 1.0,\n  'america': 1.0,\n  'warning': 1.0,\n  'for': 4.0,\n  'foundered': 1.0,\n  'irresolution': 1.0,\n  'knowable': 1.0,\n  'all': 2.0,\n  'native': 1.0,\n  'oedipus': 1.0,\n  'must': 2.0,\n  'hollywood': 3.0,\n  'european': 2.0,\n  'possible': 1.0,\n  'informer': 1.0,\n  'under': 1.0,\n  'french': 6.0,\n  'relative': 1.0,\n  'in': 18.0,\n  '1960s': 1.0,\n  'point': 1.0,\n  'subversion': 1.0,\n  'thrillers': 1.0,\n  'if': 3.0,\n  'to': 17.0,\n  'general': 1.0,\n  'say': 1.0,\n  'ambivalence': 1.0,\n  'home': 1.0,\n  'a': 26.0,\n  'invading': 1.0,\n  'facts': 1.0,\n  'addict': 1.0,\n  's': 9.0,\n  'at': 3.0,\n  'than': 2.0,\n  'misreads': 1.0,\n  'anywhere': 1.0,\n  'absorb': 1.0,\n  'subservient': 1.0,\n  'setting': 1.0,\n  'detective': 8.0,\n  'best': 1.0,\n  'duller': 1.0,\n  'towards': 1.0,\n  'friedkin': 2.0,\n  'least': 1.0,\n  'difficultly': 1.0,\n  'guidelines': 1.0,\n  'action': 2.0,\n  'was': 5.0,\n  'also': 1.0,\n  'comforted': 1.0,\n  'imdb': 1.0,\n  'signs': 1.0,\n  'complicate': 1.0,\n  'right': 1.0,\n  'practice': 1.0,\n  'dialectic': 1.0,\n  'refusing': 1.0,\n  'boom': 1.0,\n  'two': 9.0,\n  'even': 3.0},\n 'predictions': 1.1907243106909369e-92}"
     },
     "execution_count": 14,
     "metadata": {},
     "output_type": "execute_result"
    }
   ],
   "source": [
    "movies.sort('predictions', ascending=True)[0]"
   ]
  },
  {
   "cell_type": "code",
   "execution_count": 14,
   "metadata": {},
   "outputs": [],
   "source": []
  }
 ],
 "metadata": {
  "kernelspec": {
   "display_name": "Python 3",
   "language": "python",
   "name": "python3"
  },
  "language_info": {
   "codemirror_mode": {
    "name": "ipython",
    "version": 3
   },
   "file_extension": ".py",
   "mimetype": "text/x-python",
   "name": "python",
   "nbconvert_exporter": "python",
   "pygments_lexer": "ipython3",
   "version": "3.7.6"
  }
 },
 "nbformat": 4,
 "nbformat_minor": 4
}