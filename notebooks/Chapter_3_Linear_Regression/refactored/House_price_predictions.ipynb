{
 "cells": [
  {
   "cell_type": "markdown",
   "id": "3d25dc6c-3e7c-4845-b18e-e15c4e9c9fe5",
   "metadata": {},
   "source": [
    "# House Price Predictions with Linear Regression"
   ]
  },
  {
   "cell_type": "code",
   "execution_count": 12,
   "id": "63de9c95-9adb-4b59-bc5a-6e1ed9d3871f",
   "metadata": {},
   "outputs": [
    {
     "ename": "ModuleNotFoundError",
     "evalue": "No module named 'utils'",
     "output_type": "error",
     "traceback": [
      "\u001B[0;31m---------------------------------------------------------------------------\u001B[0m",
      "\u001B[0;31mModuleNotFoundError\u001B[0m                       Traceback (most recent call last)",
      "\u001B[0;32m<ipython-input-12-1232bfa5f81d>\u001B[0m in \u001B[0;36m<module>\u001B[0;34m\u001B[0m\n\u001B[1;32m      5\u001B[0m \u001B[0;32mimport\u001B[0m \u001B[0msys\u001B[0m\u001B[0;34m\u001B[0m\u001B[0;34m\u001B[0m\u001B[0m\n\u001B[1;32m      6\u001B[0m \u001B[0msys\u001B[0m\u001B[0;34m.\u001B[0m\u001B[0mpath\u001B[0m\u001B[0;34m.\u001B[0m\u001B[0minsert\u001B[0m\u001B[0;34m(\u001B[0m\u001B[0;36m0\u001B[0m\u001B[0;34m,\u001B[0m \u001B[0;34m'Chapter_3_Linear_Regression'\u001B[0m\u001B[0;34m)\u001B[0m\u001B[0;34m\u001B[0m\u001B[0;34m\u001B[0m\u001B[0m\n\u001B[0;32m----> 7\u001B[0;31m \u001B[0;32mimport\u001B[0m \u001B[0mutils\u001B[0m\u001B[0;34m\u001B[0m\u001B[0;34m\u001B[0m\u001B[0m\n\u001B[0m",
      "\u001B[0;31mModuleNotFoundError\u001B[0m: No module named 'utils'"
     ]
    }
   ],
   "source": [
    "%run Coding_linear_regression.ipynb \n",
    "# allows us to use the functions we wrote\n",
    "\n",
    "import pandas"
   ]
  },
  {
   "cell_type": "markdown",
   "id": "a6b2c91d-3d99-466b-b2c0-8404051b8407",
   "metadata": {},
   "source": [
    "### Exploring the relationship between price and area"
   ]
  },
  {
   "cell_type": "code",
   "execution_count": 2,
   "id": "3c88d0c0-9191-4233-b3d8-56613c06d90b",
   "metadata": {},
   "outputs": [
    {
     "data": {
      "text/plain": "<Figure size 640x480 with 1 Axes>",
      "image/png": "[encoded data removed]"
     },
     "metadata": {},
     "output_type": "display_data"
    }
   ],
   "source": [
    "data = pandas.read_csv('Hyderabad.csv')\n",
    "plot_scatter(\n",
    "    data['Area'], data['Price'], \"Housing Area\", \"Housing Price\")\n",
    "plt.show()"
   ]
  },
  {
   "cell_type": "markdown",
   "id": "bddb201b-708a-46c6-87a6-f4dd8f8d8166",
   "metadata": {},
   "source": [
    "## With turicreate"
   ]
  },
  {
   "cell_type": "markdown",
   "id": "d8eb2f11-9adf-4755-905e-54403e1c84e2",
   "metadata": {},
   "source": [
    "### Testing a model with only one feature"
   ]
  },
  {
   "cell_type": "code",
   "execution_count": 17,
   "id": "4223bb37-666b-422c-8552-aad7b8faeca1",
   "metadata": {},
   "outputs": [
    {
     "data": {
      "text/plain": "Finished parsing file /Users/cpicon/PycharmProjects/manning/Chapter_3_Linear_Regression/refactored/Hyderabad.csv",
      "text/html": "<pre>Finished parsing file /Users/cpicon/PycharmProjects/manning/Chapter_3_Linear_Regression/refactored/Hyderabad.csv</pre>"
     },
     "metadata": {},
     "output_type": "display_data"
    },
    {
     "data": {
      "text/plain": "Parsing completed. Parsed 100 lines in 0.02431 secs.",
      "text/html": "<pre>Parsing completed. Parsed 100 lines in 0.02431 secs.</pre>"
     },
     "metadata": {},
     "output_type": "display_data"
    },
    {
     "name": "stdout",
     "output_type": "stream",
     "text": [
      "------------------------------------------------------\n",
      "Inferred types from first 100 line(s) of file as \n",
      "column_type_hints=[int,int,str,int,int,int,int,int,int,int,int,int,int,int,int,int,int,int,int,int,int,int,int,int,int,int,int,int,int,int,int,int,int,int,int,int,int,int,int,int]\n",
      "If parsing fails due to incorrect types, you can correct\n",
      "the inferred type list above and pass it to read_csv in\n",
      "the column_type_hints argument\n",
      "------------------------------------------------------\n"
     ]
    },
    {
     "data": {
      "text/plain": "Finished parsing file /Users/cpicon/PycharmProjects/manning/Chapter_3_Linear_Regression/refactored/Hyderabad.csv",
      "text/html": "<pre>Finished parsing file /Users/cpicon/PycharmProjects/manning/Chapter_3_Linear_Regression/refactored/Hyderabad.csv</pre>"
     },
     "metadata": {},
     "output_type": "display_data"
    },
    {
     "data": {
      "text/plain": "Parsing completed. Parsed 2518 lines in 0.024501 secs.",
      "text/html": "<pre>Parsing completed. Parsed 2518 lines in 0.024501 secs.</pre>"
     },
     "metadata": {},
     "output_type": "display_data"
    },
    {
     "data": {
      "text/plain": "         Price  Area     Location  No. of Bedrooms  Resale  MaintenanceStaff  \\\n0      6968000  1340     Nizampet                2       0                 0   \n1     29000000  3498  Hitech City                4       0                 0   \n2      6590000  1318    Manikonda                2       0                 0   \n3      5739000  1295        Alwal                3       1                 0   \n4      5679000  1145   Kukatpally                2       0                 0   \n...        ...   ...          ...              ...     ...               ...   \n2513  11000000  1460     Nacharam                2       1                 9   \n2514  26000000  1314    Manikonda                2       1                 9   \n2515  13300000  2625     Madhapur                3       1                 9   \n2516  10800000  2050  Hitech City                3       0                 9   \n2517  10400000  1805     Narsingi                3       0                 9   \n\n      Gymnasium  SwimmingPool  LandscapedGardens  JoggingTrack  ...  \\\n0             1             1                  1             1  ...   \n1             1             1                  1             1  ...   \n2             1             0                  0             0  ...   \n3             0             0                  0             0  ...   \n4             0             0                  1             0  ...   \n...         ...           ...                ...           ...  ...   \n2513          9             9                  9             9  ...   \n2514          9             9                  9             9  ...   \n2515          9             9                  9             9  ...   \n2516          9             9                  9             9  ...   \n2517          9             9                  9             9  ...   \n\n      LiftAvailable  BED  VaastuCompliant  Microwave  GolfCourse  TV  \\\n0                 1    0                1          0           0   0   \n1                 1    0                1          0           0   0   \n2                 0    0                0          0           0   0   \n3                 1    0                0          0           0   0   \n4                 1    0                0          0           0   0   \n...             ...  ...              ...        ...         ...  ..   \n2513              9    9                9          9           9   9   \n2514              9    9                9          9           9   9   \n2515              9    9                9          9           9   9   \n2516              9    9                9          9           9   9   \n2517              9    9                9          9           9   9   \n\n      DiningTable  Sofa  Wardrobe  Refrigerator  \n0               0     0         0             0  \n1               0     0         0             0  \n2               0     0         0             0  \n3               0     0         0             0  \n4               0     0         0             0  \n...           ...   ...       ...           ...  \n2513            9     9         9             9  \n2514            9     9         9             9  \n2515            9     9         9             9  \n2516            9     9         9             9  \n2517            9     9         9             9  \n\n[2518 rows x 40 columns]",
      "text/html": "<div>\n<style scoped>\n    .dataframe tbody tr th:only-of-type {\n        vertical-align: middle;\n    }\n\n    .dataframe tbody tr th {\n        vertical-align: top;\n    }\n\n    .dataframe thead th {\n        text-align: right;\n    }\n</style>\n<table border=\"1\" class=\"dataframe\">\n  <thead>\n    <tr style=\"text-align: right;\">\n      <th></th>\n      <th>Price</th>\n      <th>Area</th>\n      <th>Location</th>\n      <th>No. of Bedrooms</th>\n      <th>Resale</th>\n      <th>MaintenanceStaff</th>\n      <th>Gymnasium</th>\n      <th>SwimmingPool</th>\n      <th>LandscapedGardens</th>\n      <th>JoggingTrack</th>\n      <th>...</th>\n      <th>LiftAvailable</th>\n      <th>BED</th>\n      <th>VaastuCompliant</th>\n      <th>Microwave</th>\n      <th>GolfCourse</th>\n      <th>TV</th>\n      <th>DiningTable</th>\n      <th>Sofa</th>\n      <th>Wardrobe</th>\n      <th>Refrigerator</th>\n    </tr>\n  </thead>\n  <tbody>\n    <tr>\n      <th>0</th>\n      <td>6968000</td>\n      <td>1340</td>\n      <td>Nizampet</td>\n      <td>2</td>\n      <td>0</td>\n      <td>0</td>\n      <td>1</td>\n      <td>1</td>\n      <td>1</td>\n      <td>1</td>\n      <td>...</td>\n      <td>1</td>\n      <td>0</td>\n      <td>1</td>\n      <td>0</td>\n      <td>0</td>\n      <td>0</td>\n      <td>0</td>\n      <td>0</td>\n      <td>0</td>\n      <td>0</td>\n    </tr>\n    <tr>\n      <th>1</th>\n      <td>29000000</td>\n      <td>3498</td>\n      <td>Hitech City</td>\n      <td>4</td>\n      <td>0</td>\n      <td>0</td>\n      <td>1</td>\n      <td>1</td>\n      <td>1</td>\n      <td>1</td>\n      <td>...</td>\n      <td>1</td>\n      <td>0</td>\n      <td>1</td>\n      <td>0</td>\n      <td>0</td>\n      <td>0</td>\n      <td>0</td>\n      <td>0</td>\n      <td>0</td>\n      <td>0</td>\n    </tr>\n    <tr>\n      <th>2</th>\n      <td>6590000</td>\n      <td>1318</td>\n      <td>Manikonda</td>\n      <td>2</td>\n      <td>0</td>\n      <td>0</td>\n      <td>1</td>\n      <td>0</td>\n      <td>0</td>\n      <td>0</td>\n      <td>...</td>\n      <td>0</td>\n      <td>0</td>\n      <td>0</td>\n      <td>0</td>\n      <td>0</td>\n      <td>0</td>\n      <td>0</td>\n      <td>0</td>\n      <td>0</td>\n      <td>0</td>\n    </tr>\n    <tr>\n      <th>3</th>\n      <td>5739000</td>\n      <td>1295</td>\n      <td>Alwal</td>\n      <td>3</td>\n      <td>1</td>\n      <td>0</td>\n      <td>0</td>\n      <td>0</td>\n      <td>0</td>\n      <td>0</td>\n      <td>...</td>\n      <td>1</td>\n      <td>0</td>\n      <td>0</td>\n      <td>0</td>\n      <td>0</td>\n      <td>0</td>\n      <td>0</td>\n      <td>0</td>\n      <td>0</td>\n      <td>0</td>\n    </tr>\n    <tr>\n      <th>4</th>\n      <td>5679000</td>\n      <td>1145</td>\n      <td>Kukatpally</td>\n      <td>2</td>\n      <td>0</td>\n      <td>0</td>\n      <td>0</td>\n      <td>0</td>\n      <td>1</td>\n      <td>0</td>\n      <td>...</td>\n      <td>1</td>\n      <td>0</td>\n      <td>0</td>\n      <td>0</td>\n      <td>0</td>\n      <td>0</td>\n      <td>0</td>\n      <td>0</td>\n      <td>0</td>\n      <td>0</td>\n    </tr>\n    <tr>\n      <th>...</th>\n      <td>...</td>\n      <td>...</td>\n      <td>...</td>\n      <td>...</td>\n      <td>...</td>\n      <td>...</td>\n      <td>...</td>\n      <td>...</td>\n      <td>...</td>\n      <td>...</td>\n      <td>...</td>\n      <td>...</td>\n      <td>...</td>\n      <td>...</td>\n      <td>...</td>\n      <td>...</td>\n      <td>...</td>\n      <td>...</td>\n      <td>...</td>\n      <td>...</td>\n      <td>...</td>\n    </tr>\n    <tr>\n      <th>2513</th>\n      <td>11000000</td>\n      <td>1460</td>\n      <td>Nacharam</td>\n      <td>2</td>\n      <td>1</td>\n      <td>9</td>\n      <td>9</td>\n      <td>9</td>\n      <td>9</td>\n      <td>9</td>\n      <td>...</td>\n      <td>9</td>\n      <td>9</td>\n      <td>9</td>\n      <td>9</td>\n      <td>9</td>\n      <td>9</td>\n      <td>9</td>\n      <td>9</td>\n      <td>9</td>\n      <td>9</td>\n    </tr>\n    <tr>\n      <th>2514</th>\n      <td>26000000</td>\n      <td>1314</td>\n      <td>Manikonda</td>\n      <td>2</td>\n      <td>1</td>\n      <td>9</td>\n      <td>9</td>\n      <td>9</td>\n      <td>9</td>\n      <td>9</td>\n      <td>...</td>\n      <td>9</td>\n      <td>9</td>\n      <td>9</td>\n      <td>9</td>\n      <td>9</td>\n      <td>9</td>\n      <td>9</td>\n      <td>9</td>\n      <td>9</td>\n      <td>9</td>\n    </tr>\n    <tr>\n      <th>2515</th>\n      <td>13300000</td>\n      <td>2625</td>\n      <td>Madhapur</td>\n      <td>3</td>\n      <td>1</td>\n      <td>9</td>\n      <td>9</td>\n      <td>9</td>\n      <td>9</td>\n      <td>9</td>\n      <td>...</td>\n      <td>9</td>\n      <td>9</td>\n      <td>9</td>\n      <td>9</td>\n      <td>9</td>\n      <td>9</td>\n      <td>9</td>\n      <td>9</td>\n      <td>9</td>\n      <td>9</td>\n    </tr>\n    <tr>\n      <th>2516</th>\n      <td>10800000</td>\n      <td>2050</td>\n      <td>Hitech City</td>\n      <td>3</td>\n      <td>0</td>\n      <td>9</td>\n      <td>9</td>\n      <td>9</td>\n      <td>9</td>\n      <td>9</td>\n      <td>...</td>\n      <td>9</td>\n      <td>9</td>\n      <td>9</td>\n      <td>9</td>\n      <td>9</td>\n      <td>9</td>\n      <td>9</td>\n      <td>9</td>\n      <td>9</td>\n      <td>9</td>\n    </tr>\n    <tr>\n      <th>2517</th>\n      <td>10400000</td>\n      <td>1805</td>\n      <td>Narsingi</td>\n      <td>3</td>\n      <td>0</td>\n      <td>9</td>\n      <td>9</td>\n      <td>9</td>\n      <td>9</td>\n      <td>9</td>\n      <td>...</td>\n      <td>9</td>\n      <td>9</td>\n      <td>9</td>\n      <td>9</td>\n      <td>9</td>\n      <td>9</td>\n      <td>9</td>\n      <td>9</td>\n      <td>9</td>\n      <td>9</td>\n    </tr>\n  </tbody>\n</table>\n<p>2518 rows × 40 columns</p>\n</div>"
     },
     "execution_count": 17,
     "metadata": {},
     "output_type": "execute_result"
    }
   ],
   "source": [
    "import turicreate as tc\n",
    "data_tc = tc.SFrame('Hyderabad.csv')\n",
    "data"
   ]
  },
  {
   "cell_type": "code",
   "execution_count": 7,
   "id": "c67c3b64-7e69-4c13-8bd2-c2855389a845",
   "metadata": {},
   "outputs": [
    {
     "name": "stdout",
     "output_type": "stream",
     "text": [
      "PROGRESS: Creating a validation set from 5 percent of training data. This may take a while.\n",
      "          You can set ``validation_set=None`` to disable validation tracking.\n",
      "\n"
     ]
    },
    {
     "data": {
      "text/plain": "Linear regression:",
      "text/html": "<pre>Linear regression:</pre>"
     },
     "metadata": {},
     "output_type": "display_data"
    },
    {
     "data": {
      "text/plain": "--------------------------------------------------------",
      "text/html": "<pre>--------------------------------------------------------</pre>"
     },
     "metadata": {},
     "output_type": "display_data"
    },
    {
     "data": {
      "text/plain": "Number of examples          : 2392",
      "text/html": "<pre>Number of examples          : 2392</pre>"
     },
     "metadata": {},
     "output_type": "display_data"
    },
    {
     "name": "stdout",
     "output_type": "stream",
     "text": [
      "slope: 9677.995350906074\n",
      "y-intercept: -6098019.308481174\n"
     ]
    },
    {
     "data": {
      "text/plain": "Number of features          : 1",
      "text/html": "<pre>Number of features          : 1</pre>"
     },
     "metadata": {},
     "output_type": "display_data"
    },
    {
     "data": {
      "text/plain": "Number of unpacked features : 1",
      "text/html": "<pre>Number of unpacked features : 1</pre>"
     },
     "metadata": {},
     "output_type": "display_data"
    },
    {
     "data": {
      "text/plain": "Number of coefficients    : 2",
      "text/html": "<pre>Number of coefficients    : 2</pre>"
     },
     "metadata": {},
     "output_type": "display_data"
    },
    {
     "data": {
      "text/plain": "Starting Newton Method",
      "text/html": "<pre>Starting Newton Method</pre>"
     },
     "metadata": {},
     "output_type": "display_data"
    },
    {
     "data": {
      "text/plain": "--------------------------------------------------------",
      "text/html": "<pre>--------------------------------------------------------</pre>"
     },
     "metadata": {},
     "output_type": "display_data"
    },
    {
     "data": {
      "text/plain": "+-----------+----------+--------------+--------------------+----------------------+---------------------------------+-----------------------------------+",
      "text/html": "<pre>+-----------+----------+--------------+--------------------+----------------------+---------------------------------+-----------------------------------+</pre>"
     },
     "metadata": {},
     "output_type": "display_data"
    },
    {
     "data": {
      "text/plain": "| Iteration | Passes   | Elapsed Time | Training Max Error | Validation Max Error | Training Root-Mean-Square Error | Validation Root-Mean-Square Error |",
      "text/html": "<pre>| Iteration | Passes   | Elapsed Time | Training Max Error | Validation Max Error | Training Root-Mean-Square Error | Validation Root-Mean-Square Error |</pre>"
     },
     "metadata": {},
     "output_type": "display_data"
    },
    {
     "data": {
      "text/plain": "+-----------+----------+--------------+--------------------+----------------------+---------------------------------+-----------------------------------+",
      "text/html": "<pre>+-----------+----------+--------------+--------------------+----------------------+---------------------------------+-----------------------------------+</pre>"
     },
     "metadata": {},
     "output_type": "display_data"
    },
    {
     "data": {
      "text/plain": "| 1         | 2        | 0.002039     | 144483532.093489   | 21943641.624132      | 4956591.986387                  | 3766460.547838                    |",
      "text/html": "<pre>| 1         | 2        | 0.002039     | 144483532.093489   | 21943641.624132      | 4956591.986387                  | 3766460.547838                    |</pre>"
     },
     "metadata": {},
     "output_type": "display_data"
    },
    {
     "data": {
      "text/plain": "+-----------+----------+--------------+--------------------+----------------------+---------------------------------+-----------------------------------+",
      "text/html": "<pre>+-----------+----------+--------------+--------------------+----------------------+---------------------------------+-----------------------------------+</pre>"
     },
     "metadata": {},
     "output_type": "display_data"
    },
    {
     "data": {
      "text/plain": "SUCCESS: Optimal solution found.",
      "text/html": "<pre>SUCCESS: Optimal solution found.</pre>"
     },
     "metadata": {},
     "output_type": "display_data"
    },
    {
     "data": {
      "text/plain": "",
      "text/html": "<pre></pre>"
     },
     "metadata": {},
     "output_type": "display_data"
    },
    {
     "data": {
      "text/plain": "<Figure size 640x480 with 1 Axes>",
      "image/png": "[encoded data removed]"
     },
     "metadata": {},
     "output_type": "display_data"
    }
   ],
   "source": [
    "simple_model = tc.linear_regression.create(data_tc, features=['Area'], target='Price')\n",
    "simple_model.coefficients\n",
    "b, m = simple_model.coefficients['value']\n",
    "print(\"slope:\", m)\n",
    "print(\"y-intercept:\", b)\n",
    "\n",
    "plot_scatter(data_tc['Area'], data_tc['Price'])\n",
    "draw_line(m, b, starting=0, ending=max(data_tc['Area']))\n",
    "plt.show()"
   ]
  },
  {
   "cell_type": "markdown",
   "id": "3f0523a2-8f31-4973-9f88-e755b7ee3fa7",
   "metadata": {},
   "source": [
    "### Building a model that uses all the features"
   ]
  },
  {
   "cell_type": "code",
   "execution_count": 14,
   "id": "4d5c6666-79cc-4cd9-81c3-f9fd40fe3259",
   "metadata": {},
   "outputs": [
    {
     "ename": "ToolkitError",
     "evalue": "Input training dataset is not an SFrame. If it is a Pandas DataFrame, you may use the to_sframe() function to convert it to an SFrame.",
     "output_type": "error",
     "traceback": [
      "\u001B[0;31m---------------------------------------------------------------------------\u001B[0m",
      "\u001B[0;31mToolkitError\u001B[0m                              Traceback (most recent call last)",
      "\u001B[0;32m<ipython-input-14-69abee60e406>\u001B[0m in \u001B[0;36m<module>\u001B[0;34m\u001B[0m\n\u001B[0;32m----> 1\u001B[0;31m \u001B[0mmodel\u001B[0m \u001B[0;34m=\u001B[0m \u001B[0mtc\u001B[0m\u001B[0;34m.\u001B[0m\u001B[0mlinear_regression\u001B[0m\u001B[0;34m.\u001B[0m\u001B[0mcreate\u001B[0m\u001B[0;34m(\u001B[0m\u001B[0mdata\u001B[0m\u001B[0;34m,\u001B[0m \u001B[0mtarget\u001B[0m\u001B[0;34m=\u001B[0m\u001B[0;34m'Price'\u001B[0m\u001B[0;34m)\u001B[0m\u001B[0;34m\u001B[0m\u001B[0;34m\u001B[0m\u001B[0m\n\u001B[0m\u001B[1;32m      2\u001B[0m \u001B[0;34m\u001B[0m\u001B[0m\n",
      "\u001B[0;32m~/.conda/envs/manning/lib/python3.8/site-packages/turicreate/toolkits/regression/linear_regression.py\u001B[0m in \u001B[0;36mcreate\u001B[0;34m(dataset, target, features, l2_penalty, l1_penalty, solver, feature_rescaling, convergence_threshold, step_size, lbfgs_memory_level, max_iterations, validation_set, verbose)\u001B[0m\n\u001B[1;32m    284\u001B[0m     \u001B[0msolver\u001B[0m \u001B[0;34m=\u001B[0m \u001B[0msolver\u001B[0m\u001B[0;34m.\u001B[0m\u001B[0mlower\u001B[0m\u001B[0;34m(\u001B[0m\u001B[0;34m)\u001B[0m\u001B[0;34m\u001B[0m\u001B[0;34m\u001B[0m\u001B[0m\n\u001B[1;32m    285\u001B[0m \u001B[0;34m\u001B[0m\u001B[0m\n\u001B[0;32m--> 286\u001B[0;31m     model = _sl.create(\n\u001B[0m\u001B[1;32m    287\u001B[0m         \u001B[0mdataset\u001B[0m\u001B[0;34m,\u001B[0m\u001B[0;34m\u001B[0m\u001B[0;34m\u001B[0m\u001B[0m\n\u001B[1;32m    288\u001B[0m         \u001B[0mtarget\u001B[0m\u001B[0;34m,\u001B[0m\u001B[0;34m\u001B[0m\u001B[0;34m\u001B[0m\u001B[0m\n",
      "\u001B[0;32m~/.conda/envs/manning/lib/python3.8/site-packages/turicreate/toolkits/_supervised_learning.py\u001B[0m in \u001B[0;36mcreate\u001B[0;34m(dataset, target, model_name, features, validation_set, distributed, verbose, seed, **kwargs)\u001B[0m\n\u001B[1;32m    314\u001B[0m \u001B[0;34m\u001B[0m\u001B[0m\n\u001B[1;32m    315\u001B[0m     \u001B[0;31m# Perform error-checking and trim inputs to specified columns\u001B[0m\u001B[0;34m\u001B[0m\u001B[0;34m\u001B[0m\u001B[0;34m\u001B[0m\u001B[0m\n\u001B[0;32m--> 316\u001B[0;31m     \u001B[0mdataset\u001B[0m\u001B[0;34m,\u001B[0m \u001B[0mvalidation_set\u001B[0m \u001B[0;34m=\u001B[0m \u001B[0m_validate_data\u001B[0m\u001B[0;34m(\u001B[0m\u001B[0mdataset\u001B[0m\u001B[0;34m,\u001B[0m \u001B[0mtarget\u001B[0m\u001B[0;34m,\u001B[0m \u001B[0mfeatures\u001B[0m\u001B[0;34m,\u001B[0m \u001B[0mvalidation_set\u001B[0m\u001B[0;34m)\u001B[0m\u001B[0;34m\u001B[0m\u001B[0;34m\u001B[0m\u001B[0m\n\u001B[0m\u001B[1;32m    317\u001B[0m \u001B[0;34m\u001B[0m\u001B[0m\n\u001B[1;32m    318\u001B[0m     \u001B[0;31m# Sample a validation set from the training data if requested\u001B[0m\u001B[0;34m\u001B[0m\u001B[0;34m\u001B[0m\u001B[0;34m\u001B[0m\u001B[0m\n",
      "\u001B[0;32m~/.conda/envs/manning/lib/python3.8/site-packages/turicreate/toolkits/_internal_utils.py\u001B[0m in \u001B[0;36m_validate_data\u001B[0;34m(dataset, target, features, validation_set)\u001B[0m\n\u001B[1;32m    699\u001B[0m     \"\"\"\n\u001B[1;32m    700\u001B[0m \u001B[0;34m\u001B[0m\u001B[0m\n\u001B[0;32m--> 701\u001B[0;31m     \u001B[0m_raise_error_if_not_sframe\u001B[0m\u001B[0;34m(\u001B[0m\u001B[0mdataset\u001B[0m\u001B[0;34m,\u001B[0m \u001B[0;34m\"training dataset\"\u001B[0m\u001B[0;34m)\u001B[0m\u001B[0;34m\u001B[0m\u001B[0;34m\u001B[0m\u001B[0m\n\u001B[0m\u001B[1;32m    702\u001B[0m \u001B[0;34m\u001B[0m\u001B[0m\n\u001B[1;32m    703\u001B[0m     \u001B[0;31m# Determine columns to keep\u001B[0m\u001B[0;34m\u001B[0m\u001B[0;34m\u001B[0m\u001B[0;34m\u001B[0m\u001B[0m\n",
      "\u001B[0;32m~/.conda/envs/manning/lib/python3.8/site-packages/turicreate/toolkits/_internal_utils.py\u001B[0m in \u001B[0;36m_raise_error_if_not_sframe\u001B[0;34m(dataset, variable_name)\u001B[0m\n\u001B[1;32m    618\u001B[0m \u001B[0;34m\u001B[0m\u001B[0m\n\u001B[1;32m    619\u001B[0m     \u001B[0;32mif\u001B[0m \u001B[0;32mnot\u001B[0m \u001B[0misinstance\u001B[0m\u001B[0;34m(\u001B[0m\u001B[0mdataset\u001B[0m\u001B[0;34m,\u001B[0m \u001B[0m_SFrame\u001B[0m\u001B[0;34m)\u001B[0m\u001B[0;34m:\u001B[0m\u001B[0;34m\u001B[0m\u001B[0;34m\u001B[0m\u001B[0m\n\u001B[0;32m--> 620\u001B[0;31m         \u001B[0;32mraise\u001B[0m \u001B[0mToolkitError\u001B[0m\u001B[0;34m(\u001B[0m\u001B[0merr_msg\u001B[0m \u001B[0;34m%\u001B[0m \u001B[0mvariable_name\u001B[0m\u001B[0;34m)\u001B[0m\u001B[0;34m\u001B[0m\u001B[0;34m\u001B[0m\u001B[0m\n\u001B[0m\u001B[1;32m    621\u001B[0m \u001B[0;34m\u001B[0m\u001B[0m\n\u001B[1;32m    622\u001B[0m \u001B[0;34m\u001B[0m\u001B[0m\n",
      "\u001B[0;31mToolkitError\u001B[0m: Input training dataset is not an SFrame. If it is a Pandas DataFrame, you may use the to_sframe() function to convert it to an SFrame."
     ]
    }
   ],
   "source": [
    "model = tc.linear_regression.create(data, target='Price')"
   ]
  },
  {
   "cell_type": "code",
   "execution_count": null,
   "id": "c203729f-ed29-41aa-bc87-50b8b85e0806",
   "metadata": {},
   "outputs": [],
   "source": [
    "model.coefficients"
   ]
  },
  {
   "cell_type": "code",
   "execution_count": null,
   "id": "0a9b49a2-632a-47dc-b5c7-3ff7b9612357",
   "metadata": {},
   "outputs": [],
   "source": [
    "model.evaluate(data)"
   ]
  },
  {
   "cell_type": "code",
   "execution_count": null,
   "id": "12f485c1-bc97-4f31-9180-afc076ec9109",
   "metadata": {},
   "outputs": [],
   "source": [
    "house = tc.SFrame({'Area': [1000], 'No. of Bedrooms':[3]})\n",
    "model.predict(house)"
   ]
  },
  {
   "cell_type": "markdown",
   "id": "ce7c0cb6-e01b-4380-9aed-a48587cb3312",
   "metadata": {},
   "source": [
    "# With statsmodels"
   ]
  },
  {
   "cell_type": "markdown",
   "id": "c1b9a883-f1ad-4bee-b349-3876a10b6280",
   "metadata": {},
   "source": [
    "### Testing a model with only one feature\n",
    "\n",
    "statsmodels doesn't automatically add an intercept (constant bias) column, so we have to add that ourselves."
   ]
  },
  {
   "cell_type": "code",
   "execution_count": null,
   "id": "55625807-7a16-4a16-ae20-45a3ed15a07f",
   "metadata": {},
   "outputs": [],
   "source": [
    "import statsmodels.api as sm\n",
    "\n",
    "exog = sm.add_constant(data['Area']) # adds an intercept column\n",
    "model_linear_regression = sm.OLS(\n",
    "    endog = data['Price'],\n",
    "    exog = exog)\n",
    "results_regression = model_linear_regression.fit()"
   ]
  },
  {
   "cell_type": "code",
   "execution_count": null,
   "id": "54f8d5f6-ce17-4eb6-9ff7-2cd5d61e6056",
   "metadata": {},
   "outputs": [],
   "source": [
    "results_regression.summary()"
   ]
  },
  {
   "cell_type": "code",
   "execution_count": null,
   "id": "7fcd8501-7be4-4e4c-b73e-de61fef7dff9",
   "metadata": {},
   "outputs": [],
   "source": [
    "results_regression.params"
   ]
  },
  {
   "cell_type": "code",
   "execution_count": null,
   "id": "1e30391c-8143-446c-a27f-cebd7041a66f",
   "metadata": {},
   "outputs": [],
   "source": [
    "plot_scatter(\n",
    "    data['Area'], data['Price'], \"Housing Area\", \"Housing Price\")\n",
    "draw_line(*results_regression.params[::-1], starting=0, ending=max(data['Area']))\n",
    "plt.show()"
   ]
  },
  {
   "cell_type": "code",
   "execution_count": null,
   "id": "88045e47-79c0-4b6e-a2c2-eb9f94c12c78",
   "metadata": {},
   "outputs": [],
   "source": [
    "plot_scatter(\n",
    "    results_regression.fittedvalues,\n",
    "    results_regression.resid,\n",
    "    x_label = \"Fitted Values\",\n",
    "    y_label = \"Residual Values\")\n",
    "plt.show()\n",
    "# Not sure why it plots twice\n",
    "sm.qqplot(results_regression.resid_pearson, line = \"q\")"
   ]
  },
  {
   "cell_type": "markdown",
   "id": "2cc99203-aca6-4b72-95d0-9e213598db98",
   "metadata": {},
   "source": [
    "### Building a model that uses all the features\n",
    "\n",
    "statsmodels doesn't handle categorical values for us, so we need to adjust our dataset using `pandas.get_dummies()`"
   ]
  },
  {
   "cell_type": "code",
   "execution_count": null,
   "id": "2af59b74-60c7-4da9-8ad9-4b6b819b38af",
   "metadata": {},
   "outputs": [],
   "source": [
    "exog = data.copy()\n",
    "exog = sm.add_constant(exog) # adds an intercept column\n",
    "exog = pandas.get_dummies(exog) # Converts categorical to one-hot\n",
    "endog = exog.pop(\"Price\")\n",
    "\n",
    "model_linear_regression = sm.OLS(\n",
    "    endog = endog,\n",
    "    exog = exog)\n",
    "results_regression = model_linear_regression.fit()"
   ]
  },
  {
   "cell_type": "code",
   "execution_count": null,
   "id": "f6b53e59-3a0c-4a85-850b-8e0a1d4ecac4",
   "metadata": {},
   "outputs": [],
   "source": [
    "results_regression.summary() # yields a very large printout"
   ]
  },
  {
   "cell_type": "code",
   "execution_count": null,
   "id": "6321def6-8bf5-468c-af00-42062d244a92",
   "metadata": {},
   "outputs": [],
   "source": [
    "results_regression.params"
   ]
  },
  {
   "cell_type": "code",
   "execution_count": null,
   "id": "c10cee2b-18a5-4438-854d-ff3303fad9b0",
   "metadata": {},
   "outputs": [],
   "source": [
    "plot_scatter(\n",
    "    results_regression.fittedvalues,\n",
    "    results_regression.resid,\n",
    "    x_label = \"Fitted Values\",\n",
    "    y_label = \"Residual Values\")\n",
    "plt.show()\n",
    "# Not sure why it plots twice\n",
    "sm.qqplot(results_regression.resid_pearson, line = \"q\")"
   ]
  },
  {
   "cell_type": "code",
   "execution_count": null,
   "id": "d7544c9c-0dfe-4b1a-b67c-9c7ab4077ea9",
   "metadata": {},
   "outputs": [],
   "source": [
    "house = { 'No. of Bedrooms' : 3, 'Area': 1000 }\n",
    "\n",
    "def predict_linear_regression(fitted_model, dict_features):\n",
    "    \"\"\" \n",
    "    Calculates y ~ const + sum( parameter*value )\n",
    "\n",
    "    { 'feature name' : value }\n",
    "    \n",
    "    Does not assume you have all features present, so prediction may be off.\n",
    "    Assumes const parameter is not present in dictionary\n",
    "    \"\"\"\n",
    "    list_given_terms = [\n",
    "        fitted_model.params[key]*value for key, value in dict_features.items()\n",
    "    ]\n",
    "    constant_value = fitted_model.params['const']\n",
    "    list_given_terms.append(constant_value)\n",
    "    \n",
    "    return sum(list_given_terms)\n",
    "\n",
    "prediction = predict_linear_regression(results_regression, house)\n",
    "print(\"Predicted housing price:\", prediction)"
   ]
  },
  {
   "cell_type": "code",
   "execution_count": null,
   "id": "38bcfa2e-1e0a-4cfc-babc-809d0a10aa3a",
   "metadata": {},
   "outputs": [],
   "source": []
  }
 ],
 "metadata": {
  "kernelspec": {
   "display_name": "Python 3",
   "language": "python",
   "name": "python3"
  },
  "language_info": {
   "codemirror_mode": {
    "name": "ipython",
    "version": 3
   },
   "file_extension": ".py",
   "mimetype": "text/x-python",
   "name": "python",
   "nbconvert_exporter": "python",
   "pygments_lexer": "ipython3",
   "version": "3.7.10"
  }
 },
 "nbformat": 4,
 "nbformat_minor": 5
}