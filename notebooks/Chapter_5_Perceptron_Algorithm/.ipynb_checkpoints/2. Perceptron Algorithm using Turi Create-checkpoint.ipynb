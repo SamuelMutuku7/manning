{
 "cells": [
  {
   "cell_type": "code",
   "execution_count": 170,
   "metadata": {},
   "outputs": [],
   "source": [
    "import turicreate"
   ]
  },
  {
   "cell_type": "code",
   "execution_count": 171,
   "metadata": {},
   "outputs": [
    {
     "data": {
      "text/html": [
       "<pre>Finished parsing file /Users/luis/Documents/Book/code/manning/Chapter 4 - Perceptron Algorithm/emails.csv</pre>"
      ],
      "text/plain": [
       "Finished parsing file /Users/luis/Documents/Book/code/manning/Chapter 4 - Perceptron Algorithm/emails.csv"
      ]
     },
     "metadata": {},
     "output_type": "display_data"
    },
    {
     "data": {
      "text/html": [
       "<pre>Parsing completed. Parsed 100 lines in 0.08455 secs.</pre>"
      ],
      "text/plain": [
       "Parsing completed. Parsed 100 lines in 0.08455 secs."
      ]
     },
     "metadata": {},
     "output_type": "display_data"
    },
    {
     "name": "stdout",
     "output_type": "stream",
     "text": [
      "------------------------------------------------------\n",
      "Inferred types from first 100 line(s) of file as \n",
      "column_type_hints=[str,int]\n",
      "If parsing fails due to incorrect types, you can correct\n",
      "the inferred type list above and pass it to read_csv in\n",
      "the column_type_hints argument\n",
      "------------------------------------------------------\n"
     ]
    },
    {
     "data": {
      "text/html": [
       "<pre>Finished parsing file /Users/luis/Documents/Book/code/manning/Chapter 4 - Perceptron Algorithm/emails.csv</pre>"
      ],
      "text/plain": [
       "Finished parsing file /Users/luis/Documents/Book/code/manning/Chapter 4 - Perceptron Algorithm/emails.csv"
      ]
     },
     "metadata": {},
     "output_type": "display_data"
    },
    {
     "data": {
      "text/html": [
       "<pre>Parsing completed. Parsed 5728 lines in 0.114257 secs.</pre>"
      ],
      "text/plain": [
       "Parsing completed. Parsed 5728 lines in 0.114257 secs."
      ]
     },
     "metadata": {},
     "output_type": "display_data"
    }
   ],
   "source": [
    "data = turicreate.SFrame('./emails.csv')"
   ]
  },
  {
   "cell_type": "code",
   "execution_count": 172,
   "metadata": {},
   "outputs": [],
   "source": [
    "data['word_counts'] = turicreate.text_analytics.count_words(data['text'], )"
   ]
  },
  {
   "cell_type": "code",
   "execution_count": 173,
   "metadata": {},
   "outputs": [
    {
     "data": {
      "text/html": [
       "<div style=\"max-height:1000px;max-width:1500px;overflow:auto;\"><table frame=\"box\" rules=\"cols\">\n",
       "    <tr>\n",
       "        <th style=\"padding-left: 1em; padding-right: 1em; text-align: center\">text</th>\n",
       "        <th style=\"padding-left: 1em; padding-right: 1em; text-align: center\">spam</th>\n",
       "        <th style=\"padding-left: 1em; padding-right: 1em; text-align: center\">word_counts</th>\n",
       "    </tr>\n",
       "    <tr>\n",
       "        <td style=\"padding-left: 1em; padding-right: 1em; text-align: center; vertical-align: top\">Subject: naturally<br>irresistible your ...</td>\n",
       "        <td style=\"padding-left: 1em; padding-right: 1em; text-align: center; vertical-align: top\">1</td>\n",
       "        <td style=\"padding-left: 1em; padding-right: 1em; text-align: center; vertical-align: top\">{'all': 1, 'through': 1,<br>'portfolio': 1, 'its' ...</td>\n",
       "    </tr>\n",
       "    <tr>\n",
       "        <td style=\"padding-left: 1em; padding-right: 1em; text-align: center; vertical-align: top\">Subject: the stock<br>trading gunslinger  f ...</td>\n",
       "        <td style=\"padding-left: 1em; padding-right: 1em; text-align: center; vertical-align: top\">1</td>\n",
       "        <td style=\"padding-left: 1em; padding-right: 1em; text-align: center; vertical-align: top\">{'and': 3, 'merrill': 1,<br>'is': 6, 'attainder': 1, ...</td>\n",
       "    </tr>\n",
       "    <tr>\n",
       "        <td style=\"padding-left: 1em; padding-right: 1em; text-align: center; vertical-align: top\">Subject: unbelievable new<br>homes made easy  im ...</td>\n",
       "        <td style=\"padding-left: 1em; padding-right: 1em; text-align: center; vertical-align: top\">1</td>\n",
       "        <td style=\"padding-left: 1em; padding-right: 1em; text-align: center; vertical-align: top\">{'and': 2, 'website': 1,<br>'all': 1, 'limited': 1, ...</td>\n",
       "    </tr>\n",
       "    <tr>\n",
       "        <td style=\"padding-left: 1em; padding-right: 1em; text-align: center; vertical-align: top\">Subject: 4 color printing<br>special  request ...</td>\n",
       "        <td style=\"padding-left: 1em; padding-right: 1em; text-align: center; vertical-align: top\">1</td>\n",
       "        <td style=\"padding-left: 1em; padding-right: 1em; text-align: center; vertical-align: top\">{'and': 1, 'golden': 1,<br>'626': 2, 'color': 1, ...</td>\n",
       "    </tr>\n",
       "    <tr>\n",
       "        <td style=\"padding-left: 1em; padding-right: 1em; text-align: center; vertical-align: top\">Subject: do not have<br>money , get software cds ...</td>\n",
       "        <td style=\"padding-left: 1em; padding-right: 1em; text-align: center; vertical-align: top\">1</td>\n",
       "        <td style=\"padding-left: 1em; padding-right: 1em; text-align: center; vertical-align: top\">{'comedies': 1, 'all': 2,<br>'old': 1, 'tradgedies': ...</td>\n",
       "    </tr>\n",
       "    <tr>\n",
       "        <td style=\"padding-left: 1em; padding-right: 1em; text-align: center; vertical-align: top\">Subject: great nnews<br>hello , welcome to ...</td>\n",
       "        <td style=\"padding-left: 1em; padding-right: 1em; text-align: center; vertical-align: top\">1</td>\n",
       "        <td style=\"padding-left: 1em; padding-right: 1em; text-align: center; vertical-align: top\">{'va': 1, 'ac': 1,<br>'allusion': 1, 'ag': 1, ...</td>\n",
       "    </tr>\n",
       "    <tr>\n",
       "        <td style=\"padding-left: 1em; padding-right: 1em; text-align: center; vertical-align: top\">Subject: here ' s a hot<br>play in motion  homeland ...</td>\n",
       "        <td style=\"padding-left: 1em; padding-right: 1em; text-align: center; vertical-align: top\">1</td>\n",
       "        <td style=\"padding-left: 1em; padding-right: 1em; text-align: center; vertical-align: top\">{'represent': 1, 'all':<br>2, 'chain': 1, 'limit ...</td>\n",
       "    </tr>\n",
       "    <tr>\n",
       "        <td style=\"padding-left: 1em; padding-right: 1em; text-align: center; vertical-align: top\">Subject: save your money<br>buy getting this thing ...</td>\n",
       "        <td style=\"padding-left: 1em; padding-right: 1em; text-align: center; vertical-align: top\">1</td>\n",
       "        <td style=\"padding-left: 1em; padding-right: 1em; text-align: center; vertical-align: top\">{'right': 1, 'have': 1,<br>'just': 1, 'money': 1, ...</td>\n",
       "    </tr>\n",
       "    <tr>\n",
       "        <td style=\"padding-left: 1em; padding-right: 1em; text-align: center; vertical-align: top\">Subject: undeliverable :<br>home based business for ...</td>\n",
       "        <td style=\"padding-left: 1em; padding-right: 1em; text-align: center; vertical-align: top\">1</td>\n",
       "        <td style=\"padding-left: 1em; padding-right: 1em; text-align: center; vertical-align: top\">{'grownups': 2, 'co': 1,<br>'0': 1, 'telecom': 2, ...</td>\n",
       "    </tr>\n",
       "    <tr>\n",
       "        <td style=\"padding-left: 1em; padding-right: 1em; text-align: center; vertical-align: top\">Subject: save your money<br>buy getting this thing ...</td>\n",
       "        <td style=\"padding-left: 1em; padding-right: 1em; text-align: center; vertical-align: top\">1</td>\n",
       "        <td style=\"padding-left: 1em; padding-right: 1em; text-align: center; vertical-align: top\">{'right': 1, 'have': 1,<br>'just': 1, 'money': 1, ...</td>\n",
       "    </tr>\n",
       "</table>\n",
       "[5728 rows x 3 columns]<br/>Note: Only the head of the SFrame is printed.<br/>You can use print_rows(num_rows=m, num_columns=n) to print more rows and columns.\n",
       "</div>"
      ],
      "text/plain": [
       "Columns:\n",
       "\ttext\tstr\n",
       "\tspam\tint\n",
       "\tword_counts\tdict\n",
       "\n",
       "Rows: 5728\n",
       "\n",
       "Data:\n",
       "+-------------------------------+------+-------------------------------+\n",
       "|              text             | spam |          word_counts          |\n",
       "+-------------------------------+------+-------------------------------+\n",
       "| Subject: naturally irresis... |  1   | {'all': 1, 'through': 1, '... |\n",
       "| Subject: the stock trading... |  1   | {'and': 3, 'merrill': 1, '... |\n",
       "| Subject: unbelievable new ... |  1   | {'and': 2, 'website': 1, '... |\n",
       "| Subject: 4 color printing ... |  1   | {'and': 1, 'golden': 1, '6... |\n",
       "| Subject: do not have money... |  1   | {'comedies': 1, 'all': 2, ... |\n",
       "| Subject: great nnews  hell... |  1   | {'va': 1, 'ac': 1, 'allusi... |\n",
       "| Subject: here ' s a hot pl... |  1   | {'represent': 1, 'all': 2,... |\n",
       "| Subject: save your money b... |  1   | {'right': 1, 'have': 1, 'j... |\n",
       "| Subject: undeliverable : h... |  1   | {'grownups': 2, 'co': 1, '... |\n",
       "| Subject: save your money b... |  1   | {'right': 1, 'have': 1, 'j... |\n",
       "+-------------------------------+------+-------------------------------+\n",
       "[5728 rows x 3 columns]\n",
       "Note: Only the head of the SFrame is printed.\n",
       "You can use print_rows(num_rows=m, num_columns=n) to print more rows and columns."
      ]
     },
     "execution_count": 173,
     "metadata": {},
     "output_type": "execute_result"
    }
   ],
   "source": [
    "data"
   ]
  },
  {
   "cell_type": "code",
   "execution_count": 174,
   "metadata": {},
   "outputs": [],
   "source": [
    "count_words = {}\n",
    "for email in data:\n",
    "    for word in email['text'].split():\n",
    "        if word in count_words:\n",
    "            count_words[word] += 1\n",
    "        else:\n",
    "            count_words[word] = 1"
   ]
  },
  {
   "cell_type": "code",
   "execution_count": 175,
   "metadata": {},
   "outputs": [
    {
     "data": {
      "text/html": [
       "<div style=\"max-height:1000px;max-width:1500px;overflow:auto;\"><table frame=\"box\" rules=\"cols\">\n",
       "    <tr>\n",
       "        <th style=\"padding-left: 1em; padding-right: 1em; text-align: center\">text</th>\n",
       "        <th style=\"padding-left: 1em; padding-right: 1em; text-align: center\">spam</th>\n",
       "        <th style=\"padding-left: 1em; padding-right: 1em; text-align: center\">word_counts</th>\n",
       "    </tr>\n",
       "    <tr>\n",
       "        <td style=\"padding-left: 1em; padding-right: 1em; text-align: center; vertical-align: top\">Subject: naturally<br>irresistible your ...</td>\n",
       "        <td style=\"padding-left: 1em; padding-right: 1em; text-align: center; vertical-align: top\">1</td>\n",
       "        <td style=\"padding-left: 1em; padding-right: 1em; text-align: center; vertical-align: top\">{'all': 1, 'through': 1,<br>'portfolio': 1, 'its' ...</td>\n",
       "    </tr>\n",
       "    <tr>\n",
       "        <td style=\"padding-left: 1em; padding-right: 1em; text-align: center; vertical-align: top\">Subject: the stock<br>trading gunslinger  f ...</td>\n",
       "        <td style=\"padding-left: 1em; padding-right: 1em; text-align: center; vertical-align: top\">1</td>\n",
       "        <td style=\"padding-left: 1em; padding-right: 1em; text-align: center; vertical-align: top\">{'and': 3, 'merrill': 1,<br>'is': 6, 'attainder': 1, ...</td>\n",
       "    </tr>\n",
       "    <tr>\n",
       "        <td style=\"padding-left: 1em; padding-right: 1em; text-align: center; vertical-align: top\">Subject: unbelievable new<br>homes made easy  im ...</td>\n",
       "        <td style=\"padding-left: 1em; padding-right: 1em; text-align: center; vertical-align: top\">1</td>\n",
       "        <td style=\"padding-left: 1em; padding-right: 1em; text-align: center; vertical-align: top\">{'and': 2, 'website': 1,<br>'all': 1, 'limited': 1, ...</td>\n",
       "    </tr>\n",
       "    <tr>\n",
       "        <td style=\"padding-left: 1em; padding-right: 1em; text-align: center; vertical-align: top\">Subject: 4 color printing<br>special  request ...</td>\n",
       "        <td style=\"padding-left: 1em; padding-right: 1em; text-align: center; vertical-align: top\">1</td>\n",
       "        <td style=\"padding-left: 1em; padding-right: 1em; text-align: center; vertical-align: top\">{'and': 1, 'golden': 1,<br>'626': 2, 'color': 1, ...</td>\n",
       "    </tr>\n",
       "    <tr>\n",
       "        <td style=\"padding-left: 1em; padding-right: 1em; text-align: center; vertical-align: top\">Subject: do not have<br>money , get software cds ...</td>\n",
       "        <td style=\"padding-left: 1em; padding-right: 1em; text-align: center; vertical-align: top\">1</td>\n",
       "        <td style=\"padding-left: 1em; padding-right: 1em; text-align: center; vertical-align: top\">{'comedies': 1, 'all': 2,<br>'old': 1, 'tradgedies': ...</td>\n",
       "    </tr>\n",
       "    <tr>\n",
       "        <td style=\"padding-left: 1em; padding-right: 1em; text-align: center; vertical-align: top\">Subject: great nnews<br>hello , welcome to ...</td>\n",
       "        <td style=\"padding-left: 1em; padding-right: 1em; text-align: center; vertical-align: top\">1</td>\n",
       "        <td style=\"padding-left: 1em; padding-right: 1em; text-align: center; vertical-align: top\">{'va': 1, 'ac': 1,<br>'allusion': 1, 'ag': 1, ...</td>\n",
       "    </tr>\n",
       "    <tr>\n",
       "        <td style=\"padding-left: 1em; padding-right: 1em; text-align: center; vertical-align: top\">Subject: here ' s a hot<br>play in motion  homeland ...</td>\n",
       "        <td style=\"padding-left: 1em; padding-right: 1em; text-align: center; vertical-align: top\">1</td>\n",
       "        <td style=\"padding-left: 1em; padding-right: 1em; text-align: center; vertical-align: top\">{'represent': 1, 'all':<br>2, 'chain': 1, 'limit ...</td>\n",
       "    </tr>\n",
       "    <tr>\n",
       "        <td style=\"padding-left: 1em; padding-right: 1em; text-align: center; vertical-align: top\">Subject: save your money<br>buy getting this thing ...</td>\n",
       "        <td style=\"padding-left: 1em; padding-right: 1em; text-align: center; vertical-align: top\">1</td>\n",
       "        <td style=\"padding-left: 1em; padding-right: 1em; text-align: center; vertical-align: top\">{'right': 1, 'have': 1,<br>'just': 1, 'money': 1, ...</td>\n",
       "    </tr>\n",
       "    <tr>\n",
       "        <td style=\"padding-left: 1em; padding-right: 1em; text-align: center; vertical-align: top\">Subject: undeliverable :<br>home based business for ...</td>\n",
       "        <td style=\"padding-left: 1em; padding-right: 1em; text-align: center; vertical-align: top\">1</td>\n",
       "        <td style=\"padding-left: 1em; padding-right: 1em; text-align: center; vertical-align: top\">{'grownups': 2, 'co': 1,<br>'0': 1, 'telecom': 2, ...</td>\n",
       "    </tr>\n",
       "    <tr>\n",
       "        <td style=\"padding-left: 1em; padding-right: 1em; text-align: center; vertical-align: top\">Subject: save your money<br>buy getting this thing ...</td>\n",
       "        <td style=\"padding-left: 1em; padding-right: 1em; text-align: center; vertical-align: top\">1</td>\n",
       "        <td style=\"padding-left: 1em; padding-right: 1em; text-align: center; vertical-align: top\">{'right': 1, 'have': 1,<br>'just': 1, 'money': 1, ...</td>\n",
       "    </tr>\n",
       "</table>\n",
       "[5728 rows x 3 columns]<br/>Note: Only the head of the SFrame is printed.<br/>You can use print_rows(num_rows=m, num_columns=n) to print more rows and columns.\n",
       "</div>"
      ],
      "text/plain": [
       "Columns:\n",
       "\ttext\tstr\n",
       "\tspam\tint\n",
       "\tword_counts\tdict\n",
       "\n",
       "Rows: 5728\n",
       "\n",
       "Data:\n",
       "+-------------------------------+------+-------------------------------+\n",
       "|              text             | spam |          word_counts          |\n",
       "+-------------------------------+------+-------------------------------+\n",
       "| Subject: naturally irresis... |  1   | {'all': 1, 'through': 1, '... |\n",
       "| Subject: the stock trading... |  1   | {'and': 3, 'merrill': 1, '... |\n",
       "| Subject: unbelievable new ... |  1   | {'and': 2, 'website': 1, '... |\n",
       "| Subject: 4 color printing ... |  1   | {'and': 1, 'golden': 1, '6... |\n",
       "| Subject: do not have money... |  1   | {'comedies': 1, 'all': 2, ... |\n",
       "| Subject: great nnews  hell... |  1   | {'va': 1, 'ac': 1, 'allusi... |\n",
       "| Subject: here ' s a hot pl... |  1   | {'represent': 1, 'all': 2,... |\n",
       "| Subject: save your money b... |  1   | {'right': 1, 'have': 1, 'j... |\n",
       "| Subject: undeliverable : h... |  1   | {'grownups': 2, 'co': 1, '... |\n",
       "| Subject: save your money b... |  1   | {'right': 1, 'have': 1, 'j... |\n",
       "+-------------------------------+------+-------------------------------+\n",
       "[5728 rows x 3 columns]\n",
       "Note: Only the head of the SFrame is printed.\n",
       "You can use print_rows(num_rows=m, num_columns=n) to print more rows and columns."
      ]
     },
     "execution_count": 175,
     "metadata": {},
     "output_type": "execute_result"
    }
   ],
   "source": [
    "data"
   ]
  },
  {
   "cell_type": "code",
   "execution_count": 176,
   "metadata": {},
   "outputs": [],
   "source": [
    "def pick_popular_words(dictionary, min_appearances):\n",
    "    trimmed_dictionary = {}\n",
    "    popular_words = trim(count_words, min_appearances).keys()\n",
    "    for word in dictionary.keys():\n",
    "        if word in popular_words:\n",
    "            trimmed_dictionary[word] = dictionary[word]\n",
    "    return trimmed_dictionary"
   ]
  },
  {
   "cell_type": "code",
   "execution_count": 177,
   "metadata": {},
   "outputs": [],
   "source": [
    "for i in [10, 100, 1000, 10000, 100000]:\n",
    "    data['word_counts_'+str(i)] = data['word_counts'].apply(lambda x:pick_popular_words(x, i))\n",
    "#data['word_counts_10'] = data['word_counts'].apply(lambda x:pick_popular_words(x,10))"
   ]
  },
  {
   "cell_type": "code",
   "execution_count": 178,
   "metadata": {},
   "outputs": [
    {
     "data": {
      "text/html": [
       "<div style=\"max-height:1000px;max-width:1500px;overflow:auto;\"><table frame=\"box\" rules=\"cols\">\n",
       "    <tr>\n",
       "        <th style=\"padding-left: 1em; padding-right: 1em; text-align: center\">text</th>\n",
       "        <th style=\"padding-left: 1em; padding-right: 1em; text-align: center\">spam</th>\n",
       "        <th style=\"padding-left: 1em; padding-right: 1em; text-align: center\">word_counts</th>\n",
       "        <th style=\"padding-left: 1em; padding-right: 1em; text-align: center\">word_counts_10</th>\n",
       "    </tr>\n",
       "    <tr>\n",
       "        <td style=\"padding-left: 1em; padding-right: 1em; text-align: center; vertical-align: top\">Subject: naturally<br>irresistible your ...</td>\n",
       "        <td style=\"padding-left: 1em; padding-right: 1em; text-align: center; vertical-align: top\">1</td>\n",
       "        <td style=\"padding-left: 1em; padding-right: 1em; text-align: center; vertical-align: top\">{'all': 1, 'through': 1,<br>'portfolio': 1, 'its' ...</td>\n",
       "        <td style=\"padding-left: 1em; padding-right: 1em; text-align: center; vertical-align: top\">{'all': 1, 'through': 1,<br>'portfolio': 1, 'its' ...</td>\n",
       "    </tr>\n",
       "    <tr>\n",
       "        <td style=\"padding-left: 1em; padding-right: 1em; text-align: center; vertical-align: top\">Subject: the stock<br>trading gunslinger  f ...</td>\n",
       "        <td style=\"padding-left: 1em; padding-right: 1em; text-align: center; vertical-align: top\">1</td>\n",
       "        <td style=\"padding-left: 1em; padding-right: 1em; text-align: center; vertical-align: top\">{'and': 3, 'merrill': 1,<br>'is': 6, 'attainder': 1, ...</td>\n",
       "        <td style=\"padding-left: 1em; padding-right: 1em; text-align: center; vertical-align: top\">{'and': 3, 'merrill': 1,<br>'is': 6, 'trading': 1, ...</td>\n",
       "    </tr>\n",
       "    <tr>\n",
       "        <td style=\"padding-left: 1em; padding-right: 1em; text-align: center; vertical-align: top\">Subject: unbelievable new<br>homes made easy  im ...</td>\n",
       "        <td style=\"padding-left: 1em; padding-right: 1em; text-align: center; vertical-align: top\">1</td>\n",
       "        <td style=\"padding-left: 1em; padding-right: 1em; text-align: center; vertical-align: top\">{'and': 2, 'website': 1,<br>'all': 1, 'limited': 1, ...</td>\n",
       "        <td style=\"padding-left: 1em; padding-right: 1em; text-align: center; vertical-align: top\">{'and': 2, 'limited': 1,<br>'all': 1, 'show': 1, ...</td>\n",
       "    </tr>\n",
       "    <tr>\n",
       "        <td style=\"padding-left: 1em; padding-right: 1em; text-align: center; vertical-align: top\">Subject: 4 color printing<br>special  request ...</td>\n",
       "        <td style=\"padding-left: 1em; padding-right: 1em; text-align: center; vertical-align: top\">1</td>\n",
       "        <td style=\"padding-left: 1em; padding-right: 1em; text-align: center; vertical-align: top\">{'and': 1, 'golden': 1,<br>'626': 2, 'color': 1, ...</td>\n",
       "        <td style=\"padding-left: 1em; padding-right: 1em; text-align: center; vertical-align: top\">{'and': 1, 'golden': 1,<br>'color': 1, 'is': 1, ...</td>\n",
       "    </tr>\n",
       "    <tr>\n",
       "        <td style=\"padding-left: 1em; padding-right: 1em; text-align: center; vertical-align: top\">Subject: do not have<br>money , get software cds ...</td>\n",
       "        <td style=\"padding-left: 1em; padding-right: 1em; text-align: center; vertical-align: top\">1</td>\n",
       "        <td style=\"padding-left: 1em; padding-right: 1em; text-align: center; vertical-align: top\">{'comedies': 1, 'all': 2,<br>'old': 1, 'tradgedies': ...</td>\n",
       "        <td style=\"padding-left: 1em; padding-right: 1em; text-align: center; vertical-align: top\">{'all': 2, 'old': 1,<br>'do': 1, 'money': 1, ...</td>\n",
       "    </tr>\n",
       "    <tr>\n",
       "        <td style=\"padding-left: 1em; padding-right: 1em; text-align: center; vertical-align: top\">Subject: great nnews<br>hello , welcome to ...</td>\n",
       "        <td style=\"padding-left: 1em; padding-right: 1em; text-align: center; vertical-align: top\">1</td>\n",
       "        <td style=\"padding-left: 1em; padding-right: 1em; text-align: center; vertical-align: top\">{'va': 1, 'ac': 1,<br>'allusion': 1, 'ag': 1, ...</td>\n",
       "        <td style=\"padding-left: 1em; padding-right: 1em; text-align: center; vertical-align: top\">{'va': 1, 'ac': 1, 'ag':<br>1, '150': 1, 'is': 1, ...</td>\n",
       "    </tr>\n",
       "    <tr>\n",
       "        <td style=\"padding-left: 1em; padding-right: 1em; text-align: center; vertical-align: top\">Subject: here ' s a hot<br>play in motion  homeland ...</td>\n",
       "        <td style=\"padding-left: 1em; padding-right: 1em; text-align: center; vertical-align: top\">1</td>\n",
       "        <td style=\"padding-left: 1em; padding-right: 1em; text-align: center; vertical-align: top\">{'represent': 1, 'all':<br>2, 'chain': 1, 'limit ...</td>\n",
       "        <td style=\"padding-left: 1em; padding-right: 1em; text-align: center; vertical-align: top\">{'represent': 1, 'all':<br>2, 'chain': 1, 'limit ...</td>\n",
       "    </tr>\n",
       "    <tr>\n",
       "        <td style=\"padding-left: 1em; padding-right: 1em; text-align: center; vertical-align: top\">Subject: save your money<br>buy getting this thing ...</td>\n",
       "        <td style=\"padding-left: 1em; padding-right: 1em; text-align: center; vertical-align: top\">1</td>\n",
       "        <td style=\"padding-left: 1em; padding-right: 1em; text-align: center; vertical-align: top\">{'right': 1, 'have': 1,<br>'just': 1, 'money': 1, ...</td>\n",
       "        <td style=\"padding-left: 1em; padding-right: 1em; text-align: center; vertical-align: top\">{'right': 1, 'want': 1,<br>'just': 1, 'money': 1, ...</td>\n",
       "    </tr>\n",
       "    <tr>\n",
       "        <td style=\"padding-left: 1em; padding-right: 1em; text-align: center; vertical-align: top\">Subject: undeliverable :<br>home based business for ...</td>\n",
       "        <td style=\"padding-left: 1em; padding-right: 1em; text-align: center; vertical-align: top\">1</td>\n",
       "        <td style=\"padding-left: 1em; padding-right: 1em; text-align: center; vertical-align: top\">{'grownups': 2, 'co': 1,<br>'0': 1, 'telecom': 2, ...</td>\n",
       "        <td style=\"padding-left: 1em; padding-right: 1em; text-align: center; vertical-align: top\">{'co': 1, 'telecom': 2,<br>'is': 2, 'recognized' ...</td>\n",
       "    </tr>\n",
       "    <tr>\n",
       "        <td style=\"padding-left: 1em; padding-right: 1em; text-align: center; vertical-align: top\">Subject: save your money<br>buy getting this thing ...</td>\n",
       "        <td style=\"padding-left: 1em; padding-right: 1em; text-align: center; vertical-align: top\">1</td>\n",
       "        <td style=\"padding-left: 1em; padding-right: 1em; text-align: center; vertical-align: top\">{'right': 1, 'have': 1,<br>'just': 1, 'money': 1, ...</td>\n",
       "        <td style=\"padding-left: 1em; padding-right: 1em; text-align: center; vertical-align: top\">{'right': 1, 'want': 1,<br>'just': 1, 'money': 1, ...</td>\n",
       "    </tr>\n",
       "</table>\n",
       "<table frame=\"box\" rules=\"cols\">\n",
       "    <tr>\n",
       "        <th style=\"padding-left: 1em; padding-right: 1em; text-align: center\">word_counts_100</th>\n",
       "        <th style=\"padding-left: 1em; padding-right: 1em; text-align: center\">word_counts_1000</th>\n",
       "        <th style=\"padding-left: 1em; padding-right: 1em; text-align: center\">word_counts_10000</th>\n",
       "        <th style=\"padding-left: 1em; padding-right: 1em; text-align: center\">word_counts_100000</th>\n",
       "    </tr>\n",
       "    <tr>\n",
       "        <td style=\"padding-left: 1em; padding-right: 1em; text-align: center; vertical-align: top\">{'all': 1, 'through': 1,<br>'portfolio': 1, 'its' ...</td>\n",
       "        <td style=\"padding-left: 1em; padding-right: 1em; text-align: center; vertical-align: top\">{'and': 5, 'all': 1,<br>'do': 2, 'is': 3, 'it': ...</td>\n",
       "        <td style=\"padding-left: 1em; padding-right: 1em; text-align: center; vertical-align: top\">{'and': 5, 'a': 5, 'for':<br>1, 'this': 1, 'of': 4, ...</td>\n",
       "        <td style=\"padding-left: 1em; padding-right: 1em; text-align: center; vertical-align: top\">{}</td>\n",
       "    </tr>\n",
       "    <tr>\n",
       "        <td style=\"padding-left: 1em; padding-right: 1em; text-align: center; vertical-align: top\">{'and': 3, 'yes': 3,<br>'group': 1, 'like': 3, ...</td>\n",
       "        <td style=\"padding-left: 1em; padding-right: 1em; text-align: center; vertical-align: top\">{'and': 3, 'group': 1,<br>'like': 3, 'no': 3, ' ...</td>\n",
       "        <td style=\"padding-left: 1em; padding-right: 1em; text-align: center; vertical-align: top\">{'and': 3, 'is': 6,<br>'the': 1} ...</td>\n",
       "        <td style=\"padding-left: 1em; padding-right: 1em; text-align: center; vertical-align: top\">{}</td>\n",
       "    </tr>\n",
       "    <tr>\n",
       "        <td style=\"padding-left: 1em; padding-right: 1em; text-align: center; vertical-align: top\">{'and': 2, 'limited': 1,<br>'all': 1, 'show': 1, ...</td>\n",
       "        <td style=\"padding-left: 1em; padding-right: 1em; text-align: center; vertical-align: top\">{'and': 2, 'all': 1,<br>'is': 3, 'at': 1, 'ha ...</td>\n",
       "        <td style=\"padding-left: 1em; padding-right: 1em; text-align: center; vertical-align: top\">{'and': 2, 'a': 3, 'for':<br>1, 'this': 3, 'of': 1, ...</td>\n",
       "        <td style=\"padding-left: 1em; padding-right: 1em; text-align: center; vertical-align: top\">{}</td>\n",
       "    </tr>\n",
       "    <tr>\n",
       "        <td style=\"padding-left: 1em; padding-right: 1em; text-align: center; vertical-align: top\">{'and': 1, 'is': 1, 'an':<br>1, 'our': 2, 'message': ...</td>\n",
       "        <td style=\"padding-left: 1em; padding-right: 1em; text-align: center; vertical-align: top\">{'and': 1, 'information':<br>2, 'e': 2, 'for': 2, ...</td>\n",
       "        <td style=\"padding-left: 1em; padding-right: 1em; text-align: center; vertical-align: top\">{'and': 1, 'a': 2, 'for':<br>2, 'this': 1, 'of': 2, ...</td>\n",
       "        <td style=\"padding-left: 1em; padding-right: 1em; text-align: center; vertical-align: top\">{}</td>\n",
       "    </tr>\n",
       "    <tr>\n",
       "        <td style=\"padding-left: 1em; padding-right: 1em; text-align: center; vertical-align: top\">{'all': 2, 'old': 1,<br>'do': 1, 'money': 1, ...</td>\n",
       "        <td style=\"padding-left: 1em; padding-right: 1em; text-align: center; vertical-align: top\">{'me': 1, 'do': 1, 'all':<br>2, 'from': 1, 'be': 1, ...</td>\n",
       "        <td style=\"padding-left: 1em; padding-right: 1em; text-align: center; vertical-align: top\">{'to': 1, 'is': 1, 'the':<br>1} ...</td>\n",
       "        <td style=\"padding-left: 1em; padding-right: 1em; text-align: center; vertical-align: top\">{}</td>\n",
       "    </tr>\n",
       "    <tr>\n",
       "        <td style=\"padding-left: 1em; padding-right: 1em; text-align: center; vertical-align: top\">{'over': 1, 'we': 1,<br>'one': 1, 'as': 1, 'a ...</td>\n",
       "        <td style=\"padding-left: 1em; padding-right: 1em; text-align: center; vertical-align: top\">{'a': 2, 'we': 1, 'e': 1,<br>'of': 1, 'is': 1, 'as': ...</td>\n",
       "        <td style=\"padding-left: 1em; padding-right: 1em; text-align: center; vertical-align: top\">{'a': 2, 'of': 1, 'is':<br>1, 'to': 2, 'in': 1, ...</td>\n",
       "        <td style=\"padding-left: 1em; padding-right: 1em; text-align: center; vertical-align: top\">{}</td>\n",
       "    </tr>\n",
       "    <tr>\n",
       "        <td style=\"padding-left: 1em; padding-right: 1em; text-align: center; vertical-align: top\">{'sector': 1, 'limited':<br>2, 'all': 2, 'just': 2, ...</td>\n",
       "        <td style=\"padding-left: 1em; padding-right: 1em; text-align: center; vertical-align: top\">{'and': 43, 'all': 2,<br>'just': 2, 'be': 11, ...</td>\n",
       "        <td style=\"padding-left: 1em; padding-right: 1em; text-align: center; vertical-align: top\">{'and': 43, 'a': 33,<br>'for': 7, 'on': 12, ...</td>\n",
       "        <td style=\"padding-left: 1em; padding-right: 1em; text-align: center; vertical-align: top\">{}</td>\n",
       "    </tr>\n",
       "    <tr>\n",
       "        <td style=\"padding-left: 1em; padding-right: 1em; text-align: center; vertical-align: top\">{'right': 1, 'have': 1,<br>'just': 1, 'money': 1, ...</td>\n",
       "        <td style=\"padding-left: 1em; padding-right: 1em; text-align: center; vertical-align: top\">{'have': 1, 'just': 1,<br>'over': 1, 'it': 3, ...</td>\n",
       "        <td style=\"padding-left: 1em; padding-right: 1em; text-align: center; vertical-align: top\">{'a': 3, 'for': 1,<br>'this': 1, 'of': 1, ' ...</td>\n",
       "        <td style=\"padding-left: 1em; padding-right: 1em; text-align: center; vertical-align: top\">{}</td>\n",
       "    </tr>\n",
       "    <tr>\n",
       "        <td style=\"padding-left: 1em; padding-right: 1em; text-align: center; vertical-align: top\">{'co': 1, 'is': 2,<br>'home': 2, 'message': 2, ...</td>\n",
       "        <td style=\"padding-left: 1em; padding-right: 1em; text-align: center; vertical-align: top\">{'is': 2, 'message': 2,<br>'your': 1, 'subject': 2, ...</td>\n",
       "        <td style=\"padding-left: 1em; padding-right: 1em; text-align: center; vertical-align: top\">{'a': 2, 'on': 1, 'for':<br>2, 'i': 1, 'of': 1, ' ...</td>\n",
       "        <td style=\"padding-left: 1em; padding-right: 1em; text-align: center; vertical-align: top\">{}</td>\n",
       "    </tr>\n",
       "    <tr>\n",
       "        <td style=\"padding-left: 1em; padding-right: 1em; text-align: center; vertical-align: top\">{'right': 1, 'have': 1,<br>'just': 1, 'money': 1, ...</td>\n",
       "        <td style=\"padding-left: 1em; padding-right: 1em; text-align: center; vertical-align: top\">{'have': 1, 'just': 1,<br>'over': 1, 'it': 3, ...</td>\n",
       "        <td style=\"padding-left: 1em; padding-right: 1em; text-align: center; vertical-align: top\">{'a': 3, 'for': 1,<br>'this': 1, 'of': 1, ' ...</td>\n",
       "        <td style=\"padding-left: 1em; padding-right: 1em; text-align: center; vertical-align: top\">{}</td>\n",
       "    </tr>\n",
       "</table>\n",
       "[5728 rows x 8 columns]<br/>Note: Only the head of the SFrame is printed.<br/>You can use print_rows(num_rows=m, num_columns=n) to print more rows and columns.\n",
       "</div>"
      ],
      "text/plain": [
       "Columns:\n",
       "\ttext\tstr\n",
       "\tspam\tint\n",
       "\tword_counts\tdict\n",
       "\tword_counts_10\tdict\n",
       "\tword_counts_100\tdict\n",
       "\tword_counts_1000\tdict\n",
       "\tword_counts_10000\tdict\n",
       "\tword_counts_100000\tdict\n",
       "\n",
       "Rows: 5728\n",
       "\n",
       "Data:\n",
       "+-------------------------------+------+-------------------------------+\n",
       "|              text             | spam |          word_counts          |\n",
       "+-------------------------------+------+-------------------------------+\n",
       "| Subject: naturally irresis... |  1   | {'all': 1, 'through': 1, '... |\n",
       "| Subject: the stock trading... |  1   | {'and': 3, 'merrill': 1, '... |\n",
       "| Subject: unbelievable new ... |  1   | {'and': 2, 'website': 1, '... |\n",
       "| Subject: 4 color printing ... |  1   | {'and': 1, 'golden': 1, '6... |\n",
       "| Subject: do not have money... |  1   | {'comedies': 1, 'all': 2, ... |\n",
       "| Subject: great nnews  hell... |  1   | {'va': 1, 'ac': 1, 'allusi... |\n",
       "| Subject: here ' s a hot pl... |  1   | {'represent': 1, 'all': 2,... |\n",
       "| Subject: save your money b... |  1   | {'right': 1, 'have': 1, 'j... |\n",
       "| Subject: undeliverable : h... |  1   | {'grownups': 2, 'co': 1, '... |\n",
       "| Subject: save your money b... |  1   | {'right': 1, 'have': 1, 'j... |\n",
       "+-------------------------------+------+-------------------------------+\n",
       "+-------------------------------+-------------------------------+\n",
       "|         word_counts_10        |        word_counts_100        |\n",
       "+-------------------------------+-------------------------------+\n",
       "| {'all': 1, 'through': 1, '... | {'all': 1, 'through': 1, '... |\n",
       "| {'and': 3, 'merrill': 1, '... | {'and': 3, 'yes': 3, 'grou... |\n",
       "| {'and': 2, 'limited': 1, '... | {'and': 2, 'limited': 1, '... |\n",
       "| {'and': 1, 'golden': 1, 'c... | {'and': 1, 'is': 1, 'an': ... |\n",
       "| {'all': 2, 'old': 1, 'do':... | {'all': 2, 'old': 1, 'do':... |\n",
       "| {'va': 1, 'ac': 1, 'ag': 1... | {'over': 1, 'we': 1, 'one'... |\n",
       "| {'represent': 1, 'all': 2,... | {'sector': 1, 'limited': 2... |\n",
       "| {'right': 1, 'want': 1, 'j... | {'right': 1, 'have': 1, 'j... |\n",
       "| {'co': 1, 'telecom': 2, 'i... | {'co': 1, 'is': 2, 'home':... |\n",
       "| {'right': 1, 'want': 1, 'j... | {'right': 1, 'have': 1, 'j... |\n",
       "+-------------------------------+-------------------------------+\n",
       "+-------------------------------+-------------------------------+--------------------+\n",
       "|        word_counts_1000       |       word_counts_10000       | word_counts_100000 |\n",
       "+-------------------------------+-------------------------------+--------------------+\n",
       "| {'and': 5, 'all': 1, 'do':... | {'and': 5, 'a': 5, 'for': ... |         {}         |\n",
       "| {'and': 3, 'group': 1, 'li... | {'and': 3, 'is': 6, 'the': 1} |         {}         |\n",
       "| {'and': 2, 'all': 1, 'is':... | {'and': 2, 'a': 3, 'for': ... |         {}         |\n",
       "| {'and': 1, 'information': ... | {'and': 1, 'a': 2, 'for': ... |         {}         |\n",
       "| {'me': 1, 'do': 1, 'all': ... |  {'to': 1, 'is': 1, 'the': 1} |         {}         |\n",
       "| {'a': 2, 'we': 1, 'e': 1, ... | {'a': 2, 'of': 1, 'is': 1,... |         {}         |\n",
       "| {'and': 43, 'all': 2, 'jus... | {'and': 43, 'a': 33, 'for'... |         {}         |\n",
       "| {'have': 1, 'just': 1, 'ov... | {'a': 3, 'for': 1, 'this':... |         {}         |\n",
       "| {'is': 2, 'message': 2, 'y... | {'a': 2, 'on': 1, 'for': 2... |         {}         |\n",
       "| {'have': 1, 'just': 1, 'ov... | {'a': 3, 'for': 1, 'this':... |         {}         |\n",
       "+-------------------------------+-------------------------------+--------------------+\n",
       "[5728 rows x 8 columns]\n",
       "Note: Only the head of the SFrame is printed.\n",
       "You can use print_rows(num_rows=m, num_columns=n) to print more rows and columns."
      ]
     },
     "execution_count": 178,
     "metadata": {},
     "output_type": "execute_result"
    }
   ],
   "source": [
    "data"
   ]
  },
  {
   "cell_type": "code",
   "execution_count": 179,
   "metadata": {},
   "outputs": [
    {
     "name": "stdout",
     "output_type": "stream",
     "text": [
      "128.84200418994413\n",
      "118.50017458100558\n",
      "94.35300279329608\n",
      "47.017283519553075\n",
      "9.65782122905028\n",
      "0.0\n"
     ]
    }
   ],
   "source": [
    "import numpy as np\n",
    "print np.mean([len(x) for x in data['word_counts']])\n",
    "print np.mean([len(x) for x in data['word_counts_10']])\n",
    "print np.mean([len(x) for x in data['word_counts_100']])\n",
    "print np.mean([len(x) for x in data['word_counts_1000']])\n",
    "print np.mean([len(x) for x in data['word_counts_10000']])\n",
    "print np.mean([len(x) for x in data['word_counts_100000']])"
   ]
  },
  {
   "cell_type": "code",
   "execution_count": 180,
   "metadata": {},
   "outputs": [
    {
     "name": "stdout",
     "output_type": "stream",
     "text": [
      "4525 1203\n"
     ]
    }
   ],
   "source": [
    "train, test = data.random_split(0.8)\n",
    "print len(train), len(test)"
   ]
  },
  {
   "cell_type": "code",
   "execution_count": 190,
   "metadata": {},
   "outputs": [],
   "source": [
    "model = turicreate.logistic_classifier.create(train, features=['word_counts'], target='spam', verbose=False)\n",
    "model_10 = turicreate.logistic_classifier.create(train, features=['word_counts_10'], target='spam', verbose=False)\n",
    "model_100 = turicreate.logistic_classifier.create(train, features=['word_counts_100'], target='spam', verbose=False)\n",
    "model_1000 = turicreate.logistic_classifier.create(train, features=['word_counts_1000'], target='spam', verbose=False)\n",
    "model_10000 = turicreate.logistic_classifier.create(train, features=['word_counts_10000'], target='spam', verbose=False)\n",
    "model_100000 = turicreate.logistic_classifier.create(train, features=['word_counts_100000'], target='spam', verbose=False)"
   ]
  },
  {
   "cell_type": "code",
   "execution_count": 197,
   "metadata": {},
   "outputs": [
    {
     "name": "stdout",
     "output_type": "stream",
     "text": [
      "0.997355382464\n",
      "0.998872231328\n",
      "0.99317136069\n",
      "0.98469617912\n",
      "0.926020254725\n",
      "0.5\n"
     ]
    }
   ],
   "source": [
    "print model.evaluate(test)['auc']\n",
    "print model_10.evaluate(test)['auc']\n",
    "print model_100.evaluate(test)['auc']\n",
    "print model_1000.evaluate(test)['auc']\n",
    "print model_10000.evaluate(test)['auc']\n",
    "print model_100000.evaluate(test)['auc']"
   ]
  },
  {
   "cell_type": "code",
   "execution_count": 192,
   "metadata": {},
   "outputs": [
    {
     "name": "stdout",
     "output_type": "stream",
     "text": [
      "+-------------+------------+-------+---------------+--------+\n",
      "|     name    |   index    | class |     value     | stderr |\n",
      "+-------------+------------+-------+---------------+--------+\n",
      "| word_counts |    jif     |   1   |  5.3181748077 |  None  |\n",
      "| word_counts |    xbox    |   1   | 4.92401118383 |  None  |\n",
      "| word_counts |  ventured  |   1   | 4.66049751111 |  None  |\n",
      "| word_counts | bouncehost |   1   | 4.40557922303 |  None  |\n",
      "| word_counts |    hien    |   1   | 3.95990949153 |  None  |\n",
      "| word_counts |   ardith   |   1   | 3.95990949153 |  None  |\n",
      "| word_counts |  particia  |   1   | 3.95990949153 |  None  |\n",
      "| word_counts |   shiloh   |   1   | 3.95990949153 |  None  |\n",
      "| word_counts |   alvaro   |   1   | 3.95990949153 |  None  |\n",
      "| word_counts |   astrid   |   1   | 3.95990949153 |  None  |\n",
      "+-------------+------------+-------+---------------+--------+\n",
      "[32592 rows x 5 columns]\n",
      "Note: Only the head of the SFrame is printed.\n",
      "You can use print_rows(num_rows=m, num_columns=n) to print more rows and columns.\n",
      "+----------------+--------------+-------+---------------+--------+\n",
      "|      name      |    index     | class |     value     | stderr |\n",
      "+----------------+--------------+-------+---------------+--------+\n",
      "| word_counts_10 |  definately  |   1   | 5.42650364778 |  None  |\n",
      "| word_counts_10 |      ha      |   1   |  5.3851239446 |  None  |\n",
      "| word_counts_10 |   blocked    |   1   | 4.84114161273 |  None  |\n",
      "| word_counts_10 | downloadable |   1   | 4.71764840666 |  None  |\n",
      "| word_counts_10 |    softs     |   1   |  4.4983804436 |  None  |\n",
      "| word_counts_10 |  featuring   |   1   | 4.24076643982 |  None  |\n",
      "| word_counts_10 |     ads      |   1   | 4.14644620178 |  None  |\n",
      "| word_counts_10 |     seat     |   1   |  3.7580875849 |  None  |\n",
      "| word_counts_10 |    loved     |   1   | 3.73049283935 |  None  |\n",
      "| word_counts_10 |     hey      |   1   | 3.41904721891 |  None  |\n",
      "+----------------+--------------+-------+---------------+--------+\n",
      "[8021 rows x 5 columns]\n",
      "Note: Only the head of the SFrame is printed.\n",
      "You can use print_rows(num_rows=m, num_columns=n) to print more rows and columns.\n",
      "+-----------------+---------------+-------+---------------+--------+\n",
      "|       name      |     index     | class |     value     | stderr |\n",
      "+-----------------+---------------+-------+---------------+--------+\n",
      "| word_counts_100 | advertisement |   1   | 6.49570730997 |  None  |\n",
      "| word_counts_100 |      man      |   1   |  5.6001653861 |  None  |\n",
      "| word_counts_100 |  alternative  |   1   | 4.80661492878 |  None  |\n",
      "| word_counts_100 |      love     |   1   | 4.55507395384 |  None  |\n",
      "| word_counts_100 |     viagra    |   1   | 4.43664171628 |  None  |\n",
      "| word_counts_100 |     yours     |   1   | 4.36643264316 |  None  |\n",
      "| word_counts_100 |   worldwide   |   1   | 4.34126183041 |  None  |\n",
      "| word_counts_100 |    nothing    |   1   | 3.84213281619 |  None  |\n",
      "| word_counts_100 |    delivery   |   1   | 3.81283412866 |  None  |\n",
      "| word_counts_100 |      size     |   1   | 3.61969435604 |  None  |\n",
      "+-----------------+---------------+-------+---------------+--------+\n",
      "[1671 rows x 5 columns]\n",
      "Note: Only the head of the SFrame is printed.\n",
      "You can use print_rows(num_rows=m, num_columns=n) to print more rows and columns.\n",
      "+------------------+-------------+-------+---------------+----------------+\n",
      "|       name       |    index    | class |     value     |     stderr     |\n",
      "+------------------+-------------+-------+---------------+----------------+\n",
      "| word_counts_1000 |   subject   |   1   | 3.39337402165 | 1.30073033167  |\n",
      "| word_counts_1000 | development |   1   | 2.80507065144 |  1.6642987229  |\n",
      "| word_counts_1000 |     only    |   1   | 2.61338237086 | 0.811943948871 |\n",
      "| word_counts_1000 |      05     |   1   | 2.50724961503 | 1.84586836241  |\n",
      "| word_counts_1000 |   crenshaw  |   1   | 2.05482264628 | 4.59074405661  |\n",
      "| word_counts_1000 |  management |   1   | 1.89434394577 | 0.944288220655 |\n",
      "| word_counts_1000 |     just    |   1   | 1.86133568268 | 0.646624521221 |\n",
      "| word_counts_1000 |     http    |   1   | 1.81341382993 | 0.55614259088  |\n",
      "| word_counts_1000 |    should   |   1   | 1.78959684426 | 0.897228092328 |\n",
      "| word_counts_1000 |     next    |   1   | 1.72496486722 | 1.03075392397  |\n",
      "+------------------+-------------+-------+---------------+----------------+\n",
      "[184 rows x 5 columns]\n",
      "Note: Only the head of the SFrame is printed.\n",
      "You can use print_rows(num_rows=m, num_columns=n) to print more rows and columns.\n",
      "+-------------------+-------+-------+-----------------+-----------------+\n",
      "|        name       | index | class |      value      |      stderr     |\n",
      "+-------------------+-------+-------+-----------------+-----------------+\n",
      "| word_counts_10000 |  this |   1   |  0.266005211066 |  0.041487195944 |\n",
      "| word_counts_10000 |   a   |   1   |  0.205961611581 |  0.031203259882 |\n",
      "| word_counts_10000 |  you  |   1   |  0.165227363869 | 0.0226281558519 |\n",
      "| word_counts_10000 |   is  |   1   |  0.129725775936 | 0.0393031845257 |\n",
      "| word_counts_10000 |  and  |   1   |  0.121685841308 | 0.0213701348037 |\n",
      "| word_counts_10000 |   of  |   1   |  0.108706666479 | 0.0254820439442 |\n",
      "| word_counts_10000 |   to  |   1   | 0.0803323552178 | 0.0203143973343 |\n",
      "| word_counts_10000 |   in  |   1   | 0.0387954159101 | 0.0303766103021 |\n",
      "| word_counts_10000 |  for  |   1   |  -0.12724005707 |  0.033996078429 |\n",
      "| word_counts_10000 |   i   |   1   | -0.219340741645 | 0.0227793496282 |\n",
      "+-------------------+-------+-------+-----------------+-----------------+\n",
      "[15 rows x 5 columns]\n",
      "Note: Only the head of the SFrame is printed.\n",
      "You can use print_rows(num_rows=m, num_columns=n) to print more rows and columns.\n",
      "+-------------+-------+-------+----------------+-----------------+\n",
      "|     name    | index | class |     value      |      stderr     |\n",
      "+-------------+-------+-------+----------------+-----------------+\n",
      "| (intercept) |  None |   1   | -1.16357562085 | 0.0358170177703 |\n",
      "+-------------+-------+-------+----------------+-----------------+\n",
      "[1 rows x 5 columns]\n",
      "\n"
     ]
    }
   ],
   "source": [
    "print model.coefficients.sort('value', ascending=False)\n",
    "print model_10.coefficients.sort('value', ascending=False)\n",
    "print model_100.coefficients.sort('value', ascending=False)\n",
    "print model_1000.coefficients.sort('value', ascending=False)\n",
    "print model_10000.coefficients.sort('value', ascending=False)\n",
    "print model_100000.coefficients.sort('value', ascending=False)"
   ]
  },
  {
   "cell_type": "code",
   "execution_count": 198,
   "metadata": {},
   "outputs": [
    {
     "name": "stdout",
     "output_type": "stream",
     "text": [
      "+-------------+-----------+-------+----------------+--------+\n",
      "|     name    |   index   | class |     value      | stderr |\n",
      "+-------------+-----------+-------+----------------+--------+\n",
      "| word_counts |   stoft   |   1   | -3.57410525228 |  None  |\n",
      "| word_counts |    5052   |   1   | -3.16973235982 |  None  |\n",
      "| word_counts |    9283   |   1   | -3.12173078007 |  None  |\n",
      "| word_counts | wrenching |   1   | -3.07490147676 |  None  |\n",
      "| word_counts |    uoft   |   1   | -3.0298237622  |  None  |\n",
      "| word_counts |   keeter  |   1   | -2.95228499558 |  None  |\n",
      "| word_counts |    4438   |   1   | -2.91611719646 |  None  |\n",
      "| word_counts | revisionl |   1   | -2.85576798842 |  None  |\n",
      "| word_counts |   concur  |   1   | -2.84637892317 |  None  |\n",
      "| word_counts |   resize  |   1   | -2.84167928731 |  None  |\n",
      "+-------------+-----------+-------+----------------+--------+\n",
      "[32592 rows x 5 columns]\n",
      "Note: Only the head of the SFrame is printed.\n",
      "You can use print_rows(num_rows=m, num_columns=n) to print more rows and columns.\n",
      "+----------------+--------------+-------+----------------+--------+\n",
      "|      name      |    index     | class |     value      | stderr |\n",
      "+----------------+--------------+-------+----------------+--------+\n",
      "| word_counts_10 |   wishing    |   1   | -5.17843509706 |  None  |\n",
      "| word_counts_10 |     shut     |   1   | -5.11546999391 |  None  |\n",
      "| word_counts_10 |   refusal    |   1   | -4.95533970108 |  None  |\n",
      "| word_counts_10 | economically |   1   | -4.30490156471 |  None  |\n",
      "| word_counts_10 |  advertised  |   1   | -4.21119662488 |  None  |\n",
      "| word_counts_10 |  competitor  |   1   | -4.11800530711 |  None  |\n",
      "| word_counts_10 |   suppose    |   1   | -4.11003791719 |  None  |\n",
      "| word_counts_10 |   viewing    |   1   | -3.8576360938  |  None  |\n",
      "| word_counts_10 |  unchanged   |   1   | -3.77197856257 |  None  |\n",
      "| word_counts_10 |    planck    |   1   | -3.73400711108 |  None  |\n",
      "+----------------+--------------+-------+----------------+--------+\n",
      "[8021 rows x 5 columns]\n",
      "Note: Only the head of the SFrame is printed.\n",
      "You can use print_rows(num_rows=m, num_columns=n) to print more rows and columns.\n",
      "+-----------------+-----------------+-------+----------------+--------+\n",
      "|       name      |      index      | class |     value      | stderr |\n",
      "+-----------------+-----------------+-------+----------------+--------+\n",
      "| word_counts_100 |    published    |   1   | -3.59597768518 |  None  |\n",
      "| word_counts_100 |       guys      |   1   | -3.53508588323 |  None  |\n",
      "| word_counts_100 |     articles    |   1   | -3.31840861042 |  None  |\n",
      "| word_counts_100 |   appreciated   |   1   | -3.30895631442 |  None  |\n",
      "| word_counts_100 |       fyi       |   1   | -3.19944437976 |  None  |\n",
      "| word_counts_100 |   subscription  |   1   | -3.19190778403 |  None  |\n",
      "| word_counts_100 |     password    |   1   | -3.16396319591 |  None  |\n",
      "| word_counts_100 |      spoke      |   1   | -2.99925743673 |  None  |\n",
      "| word_counts_100 |    requested    |   1   | -2.88843081251 |  None  |\n",
      "| word_counts_100 | congratulations |   1   | -2.84398177497 |  None  |\n",
      "+-----------------+-----------------+-------+----------------+--------+\n",
      "[1671 rows x 5 columns]\n",
      "Note: Only the head of the SFrame is printed.\n",
      "You can use print_rows(num_rows=m, num_columns=n) to print more rows and columns.\n",
      "+------------------+----------+-------+----------------+----------------+\n",
      "|       name       |  index   | class |     value      |     stderr     |\n",
      "+------------------+----------+-------+----------------+----------------+\n",
      "| word_counts_1000 | stinson  |   1   | -10.495673324  | 7.38701335539  |\n",
      "| word_counts_1000 |  vince   |   1   | -7.25397632103 | 1.23261068392  |\n",
      "| word_counts_1000 | research |   1   | -6.41296763145 | 1.42452137166  |\n",
      "| word_counts_1000 |   2000   |   1   | -6.40349624117 | 1.72210865464  |\n",
      "| word_counts_1000 |  model   |   1   | -5.31126710813 | 1.11572440848  |\n",
      "| word_counts_1000 |   713    |   1   | -5.23989442437 | 3.18995699032  |\n",
      "| word_counts_1000 | kaminski |   1   | -4.43717209959 | 2.01418332463  |\n",
      "| word_counts_1000 | finance  |   1   | -3.57057323815 | 2.21671032288  |\n",
      "| word_counts_1000 |  enron   |   1   | -3.53907656109 | 0.806850931946 |\n",
      "| word_counts_1000 |  thanks  |   1   | -3.44948162032 | 0.991654577855 |\n",
      "+------------------+----------+-------+----------------+----------------+\n",
      "[184 rows x 5 columns]\n",
      "Note: Only the head of the SFrame is printed.\n",
      "You can use print_rows(num_rows=m, num_columns=n) to print more rows and columns.\n",
      "+-------------------+-------+-------+-----------------+-----------------+\n",
      "|        name       | index | class |      value      |      stderr     |\n",
      "+-------------------+-------+-------+-----------------+-----------------+\n",
      "| word_counts_10000 | enron |   1   |  -4.5009679438  |  0.504989657822 |\n",
      "| word_counts_10000 |  ect  |   1   |  -2.03102483178 |  0.486155029959 |\n",
      "| word_counts_10000 |   on  |   1   | -0.420382780726 | 0.0470980816639 |\n",
      "|    (intercept)    |  None |   1   | -0.332458828018 | 0.0659731538834 |\n",
      "| word_counts_10000 |  the  |   1   | -0.243506498033 | 0.0194439418592 |\n",
      "| word_counts_10000 |   i   |   1   | -0.219340741645 | 0.0227793496282 |\n",
      "| word_counts_10000 |  for  |   1   |  -0.12724005707 |  0.033996078429 |\n",
      "| word_counts_10000 |   in  |   1   | 0.0387954159101 | 0.0303766103021 |\n",
      "| word_counts_10000 |   to  |   1   | 0.0803323552178 | 0.0203143973343 |\n",
      "| word_counts_10000 |   of  |   1   |  0.108706666479 | 0.0254820439442 |\n",
      "+-------------------+-------+-------+-----------------+-----------------+\n",
      "[15 rows x 5 columns]\n",
      "Note: Only the head of the SFrame is printed.\n",
      "You can use print_rows(num_rows=m, num_columns=n) to print more rows and columns.\n",
      "+-------------+-------+-------+----------------+-----------------+\n",
      "|     name    | index | class |     value      |      stderr     |\n",
      "+-------------+-------+-------+----------------+-----------------+\n",
      "| (intercept) |  None |   1   | -1.16357562085 | 0.0358170177703 |\n",
      "+-------------+-------+-------+----------------+-----------------+\n",
      "[1 rows x 5 columns]\n",
      "\n"
     ]
    }
   ],
   "source": [
    "print model.coefficients.sort('value', ascending=True)\n",
    "print model_10.coefficients.sort('value', ascending=True)\n",
    "print model_100.coefficients.sort('value', ascending=True)\n",
    "print model_1000.coefficients.sort('value', ascending=True)\n",
    "print model_10000.coefficients.sort('value', ascending=True)\n",
    "print model_100000.coefficients.sort('value', ascending=True)"
   ]
  },
  {
   "cell_type": "code",
   "execution_count": 199,
   "metadata": {},
   "outputs": [],
   "source": [
    "def count_word(dictionary, word):\n",
    "    if word in dictionary:\n",
    "        return dictionary[word]\n",
    "    return 0"
   ]
  },
  {
   "cell_type": "code",
   "execution_count": 204,
   "metadata": {},
   "outputs": [],
   "source": [
    "for word in ['viagra', 'advertisement']:\n",
    "    data[word] = data['word_counts'].apply(lambda x:count_word(x, word))"
   ]
  },
  {
   "cell_type": "code",
   "execution_count": null,
   "metadata": {},
   "outputs": [],
   "source": []
  },
  {
   "cell_type": "code",
   "execution_count": 206,
   "metadata": {},
   "outputs": [
    {
     "name": "stdout",
     "output_type": "stream",
     "text": [
      "4573 1155\n"
     ]
    }
   ],
   "source": [
    "train, test = data.random_split(0.8)\n",
    "print len(train), len(test)"
   ]
  },
  {
   "cell_type": "code",
   "execution_count": 207,
   "metadata": {},
   "outputs": [
    {
     "name": "stdout",
     "output_type": "stream",
     "text": [
      "PROGRESS: Creating a validation set from 5 percent of training data. This may take a while.\n",
      "          You can set ``validation_set=None`` to disable validation tracking.\n",
      "\n"
     ]
    },
    {
     "data": {
      "text/html": [
       "<pre>Logistic regression:</pre>"
      ],
      "text/plain": [
       "Logistic regression:"
      ]
     },
     "metadata": {},
     "output_type": "display_data"
    },
    {
     "data": {
      "text/html": [
       "<pre>--------------------------------------------------------</pre>"
      ],
      "text/plain": [
       "--------------------------------------------------------"
      ]
     },
     "metadata": {},
     "output_type": "display_data"
    },
    {
     "data": {
      "text/html": [
       "<pre>Number of examples          : 4344</pre>"
      ],
      "text/plain": [
       "Number of examples          : 4344"
      ]
     },
     "metadata": {},
     "output_type": "display_data"
    },
    {
     "data": {
      "text/html": [
       "<pre>Number of classes           : 2</pre>"
      ],
      "text/plain": [
       "Number of classes           : 2"
      ]
     },
     "metadata": {},
     "output_type": "display_data"
    },
    {
     "data": {
      "text/html": [
       "<pre>Number of feature columns   : 2</pre>"
      ],
      "text/plain": [
       "Number of feature columns   : 2"
      ]
     },
     "metadata": {},
     "output_type": "display_data"
    },
    {
     "data": {
      "text/html": [
       "<pre>Number of unpacked features : 2</pre>"
      ],
      "text/plain": [
       "Number of unpacked features : 2"
      ]
     },
     "metadata": {},
     "output_type": "display_data"
    },
    {
     "data": {
      "text/html": [
       "<pre>Number of coefficients      : 3</pre>"
      ],
      "text/plain": [
       "Number of coefficients      : 3"
      ]
     },
     "metadata": {},
     "output_type": "display_data"
    },
    {
     "data": {
      "text/html": [
       "<pre>Starting Newton Method</pre>"
      ],
      "text/plain": [
       "Starting Newton Method"
      ]
     },
     "metadata": {},
     "output_type": "display_data"
    },
    {
     "data": {
      "text/html": [
       "<pre>--------------------------------------------------------</pre>"
      ],
      "text/plain": [
       "--------------------------------------------------------"
      ]
     },
     "metadata": {},
     "output_type": "display_data"
    },
    {
     "data": {
      "text/html": [
       "<pre>+-----------+----------+--------------+-------------------+---------------------+</pre>"
      ],
      "text/plain": [
       "+-----------+----------+--------------+-------------------+---------------------+"
      ]
     },
     "metadata": {},
     "output_type": "display_data"
    },
    {
     "data": {
      "text/html": [
       "<pre>| Iteration | Passes   | Elapsed Time | Training Accuracy | Validation Accuracy |</pre>"
      ],
      "text/plain": [
       "| Iteration | Passes   | Elapsed Time | Training Accuracy | Validation Accuracy |"
      ]
     },
     "metadata": {},
     "output_type": "display_data"
    },
    {
     "data": {
      "text/html": [
       "<pre>+-----------+----------+--------------+-------------------+---------------------+</pre>"
      ],
      "text/plain": [
       "+-----------+----------+--------------+-------------------+---------------------+"
      ]
     },
     "metadata": {},
     "output_type": "display_data"
    },
    {
     "data": {
      "text/html": [
       "<pre>| 1         | 2        | 0.002616     | 0.791667          | 0.820961            |</pre>"
      ],
      "text/plain": [
       "| 1         | 2        | 0.002616     | 0.791667          | 0.820961            |"
      ]
     },
     "metadata": {},
     "output_type": "display_data"
    },
    {
     "data": {
      "text/html": [
       "<pre>| 2         | 3        | 0.004840     | 0.791667          | 0.820961            |</pre>"
      ],
      "text/plain": [
       "| 2         | 3        | 0.004840     | 0.791667          | 0.820961            |"
      ]
     },
     "metadata": {},
     "output_type": "display_data"
    },
    {
     "data": {
      "text/html": [
       "<pre>| 3         | 4        | 0.006743     | 0.791667          | 0.820961            |</pre>"
      ],
      "text/plain": [
       "| 3         | 4        | 0.006743     | 0.791667          | 0.820961            |"
      ]
     },
     "metadata": {},
     "output_type": "display_data"
    },
    {
     "data": {
      "text/html": [
       "<pre>| 4         | 5        | 0.008800     | 0.791667          | 0.820961            |</pre>"
      ],
      "text/plain": [
       "| 4         | 5        | 0.008800     | 0.791667          | 0.820961            |"
      ]
     },
     "metadata": {},
     "output_type": "display_data"
    },
    {
     "data": {
      "text/html": [
       "<pre>| 5         | 6        | 0.010805     | 0.791667          | 0.820961            |</pre>"
      ],
      "text/plain": [
       "| 5         | 6        | 0.010805     | 0.791667          | 0.820961            |"
      ]
     },
     "metadata": {},
     "output_type": "display_data"
    },
    {
     "data": {
      "text/html": [
       "<pre>| 10        | 11       | 0.021891     | 0.791667          | 0.820961            |</pre>"
      ],
      "text/plain": [
       "| 10        | 11       | 0.021891     | 0.791667          | 0.820961            |"
      ]
     },
     "metadata": {},
     "output_type": "display_data"
    },
    {
     "data": {
      "text/html": [
       "<pre>+-----------+----------+--------------+-------------------+---------------------+</pre>"
      ],
      "text/plain": [
       "+-----------+----------+--------------+-------------------+---------------------+"
      ]
     },
     "metadata": {},
     "output_type": "display_data"
    },
    {
     "data": {
      "text/html": [
       "<pre>Completed (Iteration limit reached).</pre>"
      ],
      "text/plain": [
       "Completed (Iteration limit reached)."
      ]
     },
     "metadata": {},
     "output_type": "display_data"
    },
    {
     "data": {
      "text/html": [
       "<pre>This model may not be optimal. To improve it, consider increasing `max_iterations`.</pre>"
      ],
      "text/plain": [
       "This model may not be optimal. To improve it, consider increasing `max_iterations`."
      ]
     },
     "metadata": {},
     "output_type": "display_data"
    }
   ],
   "source": [
    "two_word_model = turicreate.logistic_classifier.create(train, features=['viagra', 'advertisement'], target='spam')"
   ]
  },
  {
   "cell_type": "code",
   "execution_count": 208,
   "metadata": {},
   "outputs": [
    {
     "data": {
      "text/plain": [
       "{'accuracy': 0.7982683982683982,\n",
       " 'auc': 0.5774397872358054,\n",
       " 'confusion_matrix': Columns:\n",
       " \ttarget_label\tint\n",
       " \tpredicted_label\tint\n",
       " \tcount\tint\n",
       " \n",
       " Rows: 4\n",
       " \n",
       " Data:\n",
       " +--------------+-----------------+-------+\n",
       " | target_label | predicted_label | count |\n",
       " +--------------+-----------------+-------+\n",
       " |      1       |        1        |   43  |\n",
       " |      1       |        0        |  231  |\n",
       " |      0       |        0        |  879  |\n",
       " |      0       |        1        |   2   |\n",
       " +--------------+-----------------+-------+\n",
       " [4 rows x 3 columns],\n",
       " 'f1_score': 0.26959247648902823,\n",
       " 'log_loss': 0.49841630871643816,\n",
       " 'precision': 0.9555555555555556,\n",
       " 'recall': 0.15693430656934307,\n",
       " 'roc_curve': Columns:\n",
       " \tthreshold\tfloat\n",
       " \tfpr\tfloat\n",
       " \ttpr\tfloat\n",
       " \tp\tint\n",
       " \tn\tint\n",
       " \n",
       " Rows: 100001\n",
       " \n",
       " Data:\n",
       " +-----------+-----+-----+-----+-----+\n",
       " | threshold | fpr | tpr |  p  |  n  |\n",
       " +-----------+-----+-----+-----+-----+\n",
       " |    0.0    | 1.0 | 1.0 | 274 | 881 |\n",
       " |   1e-05   | 1.0 | 1.0 | 274 | 881 |\n",
       " |   2e-05   | 1.0 | 1.0 | 274 | 881 |\n",
       " |   3e-05   | 1.0 | 1.0 | 274 | 881 |\n",
       " |   4e-05   | 1.0 | 1.0 | 274 | 881 |\n",
       " |   5e-05   | 1.0 | 1.0 | 274 | 881 |\n",
       " |   6e-05   | 1.0 | 1.0 | 274 | 881 |\n",
       " |   7e-05   | 1.0 | 1.0 | 274 | 881 |\n",
       " |   8e-05   | 1.0 | 1.0 | 274 | 881 |\n",
       " |   9e-05   | 1.0 | 1.0 | 274 | 881 |\n",
       " +-----------+-----+-----+-----+-----+\n",
       " [100001 rows x 5 columns]\n",
       " Note: Only the head of the SFrame is printed.\n",
       " You can use print_rows(num_rows=m, num_columns=n) to print more rows and columns.}"
      ]
     },
     "execution_count": 208,
     "metadata": {},
     "output_type": "execute_result"
    }
   ],
   "source": [
    "two_word_model.evaluate(test)"
   ]
  },
  {
   "cell_type": "code",
   "execution_count": 209,
   "metadata": {},
   "outputs": [
    {
     "data": {
      "text/html": [
       "<div style=\"max-height:1000px;max-width:1500px;overflow:auto;\"><table frame=\"box\" rules=\"cols\">\n",
       "    <tr>\n",
       "        <th style=\"padding-left: 1em; padding-right: 1em; text-align: center\">name</th>\n",
       "        <th style=\"padding-left: 1em; padding-right: 1em; text-align: center\">index</th>\n",
       "        <th style=\"padding-left: 1em; padding-right: 1em; text-align: center\">class</th>\n",
       "        <th style=\"padding-left: 1em; padding-right: 1em; text-align: center\">value</th>\n",
       "        <th style=\"padding-left: 1em; padding-right: 1em; text-align: center\">stderr</th>\n",
       "    </tr>\n",
       "    <tr>\n",
       "        <td style=\"padding-left: 1em; padding-right: 1em; text-align: center; vertical-align: top\">(intercept)</td>\n",
       "        <td style=\"padding-left: 1em; padding-right: 1em; text-align: center; vertical-align: top\">None</td>\n",
       "        <td style=\"padding-left: 1em; padding-right: 1em; text-align: center; vertical-align: top\">1</td>\n",
       "        <td style=\"padding-left: 1em; padding-right: 1em; text-align: center; vertical-align: top\">-1.2945311025</td>\n",
       "        <td style=\"padding-left: 1em; padding-right: 1em; text-align: center; vertical-align: top\">0.037540674376</td>\n",
       "    </tr>\n",
       "    <tr>\n",
       "        <td style=\"padding-left: 1em; padding-right: 1em; text-align: center; vertical-align: top\">viagra</td>\n",
       "        <td style=\"padding-left: 1em; padding-right: 1em; text-align: center; vertical-align: top\">None</td>\n",
       "        <td style=\"padding-left: 1em; padding-right: 1em; text-align: center; vertical-align: top\">1</td>\n",
       "        <td style=\"padding-left: 1em; padding-right: 1em; text-align: center; vertical-align: top\">9.834455267</td>\n",
       "        <td style=\"padding-left: 1em; padding-right: 1em; text-align: center; vertical-align: top\">10.1147943743</td>\n",
       "    </tr>\n",
       "    <tr>\n",
       "        <td style=\"padding-left: 1em; padding-right: 1em; text-align: center; vertical-align: top\">advertisement</td>\n",
       "        <td style=\"padding-left: 1em; padding-right: 1em; text-align: center; vertical-align: top\">None</td>\n",
       "        <td style=\"padding-left: 1em; padding-right: 1em; text-align: center; vertical-align: top\">1</td>\n",
       "        <td style=\"padding-left: 1em; padding-right: 1em; text-align: center; vertical-align: top\">4.9590286015</td>\n",
       "        <td style=\"padding-left: 1em; padding-right: 1em; text-align: center; vertical-align: top\">1.01052724211</td>\n",
       "    </tr>\n",
       "</table>\n",
       "[3 rows x 5 columns]<br/>\n",
       "</div>"
      ],
      "text/plain": [
       "Columns:\n",
       "\tname\tstr\n",
       "\tindex\tstr\n",
       "\tclass\tint\n",
       "\tvalue\tfloat\n",
       "\tstderr\tfloat\n",
       "\n",
       "Rows: 3\n",
       "\n",
       "Data:\n",
       "+---------------+-------+-------+---------------+----------------+\n",
       "|      name     | index | class |     value     |     stderr     |\n",
       "+---------------+-------+-------+---------------+----------------+\n",
       "|  (intercept)  |  None |   1   | -1.2945311025 | 0.037540674376 |\n",
       "|     viagra    |  None |   1   |  9.834455267  | 10.1147943743  |\n",
       "| advertisement |  None |   1   |  4.9590286015 | 1.01052724211  |\n",
       "+---------------+-------+-------+---------------+----------------+\n",
       "[3 rows x 5 columns]"
      ]
     },
     "execution_count": 209,
     "metadata": {},
     "output_type": "execute_result"
    }
   ],
   "source": [
    "two_word_model.coefficients"
   ]
  },
  {
   "cell_type": "code",
   "execution_count": null,
   "metadata": {},
   "outputs": [],
   "source": []
  },
  {
   "cell_type": "code",
   "execution_count": null,
   "metadata": {},
   "outputs": [],
   "source": []
  }
 ],
 "metadata": {
  "kernelspec": {
   "display_name": "Python 2",
   "language": "python",
   "name": "python2"
  },
  "language_info": {
   "codemirror_mode": {
    "name": "ipython",
    "version": 2
   },
   "file_extension": ".py",
   "mimetype": "text/x-python",
   "name": "python",
   "nbconvert_exporter": "python",
   "pygments_lexer": "ipython2",
   "version": "2.7.15"
  }
 },
 "nbformat": 4,
 "nbformat_minor": 2
}
